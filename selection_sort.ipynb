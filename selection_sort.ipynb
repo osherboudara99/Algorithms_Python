{
 "cells": [
  {
   "cell_type": "code",
   "execution_count": 72,
   "id": "72a4ee7b-57db-49e8-b302-75b4999f801d",
   "metadata": {},
   "outputs": [],
   "source": [
    "def selection_sort(arr, ascending = True):\n",
    "    \n",
    "    if ascending:\n",
    "        print('Selection Sort Ascending')\n",
    "    else:\n",
    "        print('Selection Sort Descending')\n",
    "        \n",
    "    [print('-', end='') for i in range(60)]\n",
    "    print()\n",
    "    print(arr, '------ Original Array') \n",
    "    \n",
    "    if ascending:     \n",
    "        for i in range(len(arr)):\n",
    "            min_index = i\n",
    "            current_arr = arr\n",
    "            for j in range(i+1, len(arr)):\n",
    "                if arr[min_index] > arr[j]:\n",
    "                    min_index = j\n",
    "\n",
    "            (arr[i], arr[min_index]) = (arr[min_index], arr[i])\n",
    "            if arr[i] != arr[min_index]:\n",
    "                print(arr, f'------ Action: {arr[i]} was swapped with {arr[min_index]}')\n",
    "    \n",
    "    else:\n",
    "        for i in range(len(arr)):\n",
    "            max_index = i\n",
    "            current_arr = arr\n",
    "            for j in range(i+1, len(arr)):\n",
    "                if arr[max_index] < arr[j]:\n",
    "                    max_index = j\n",
    "\n",
    "            (arr[i], arr[max_index]) = (arr[max_index], arr[i])\n",
    "            if arr[i] != arr[max_index]:\n",
    "                print(arr, f'------ Action: {arr[i]} was swapped with {arr[max_index]}')\n",
    "            \n",
    "    return arr\n",
    "            \n",
    "    \n",
    "         \n",
    "    "
   ]
  },
  {
   "cell_type": "code",
   "execution_count": 74,
   "id": "5c6691a9-6d83-44c5-9620-d96f96575a24",
   "metadata": {},
   "outputs": [
    {
     "name": "stdout",
     "output_type": "stream",
     "text": [
      "Selection Sort Descending\n",
      "------------------------------------------------------------\n",
      "[3, 5, 1, 100, 6, 2] ------ Original Array\n",
      "[100, 5, 1, 3, 6, 2] ------ Action: 100 was swapped with 3\n",
      "[100, 6, 1, 3, 5, 2] ------ Action: 6 was swapped with 5\n",
      "[100, 6, 5, 3, 1, 2] ------ Action: 5 was swapped with 1\n",
      "[100, 6, 5, 3, 2, 1] ------ Action: 2 was swapped with 1\n"
     ]
    },
    {
     "data": {
      "text/plain": [
       "[100, 6, 5, 3, 2, 1]"
      ]
     },
     "execution_count": 74,
     "metadata": {},
     "output_type": "execute_result"
    }
   ],
   "source": [
    "selection_sort([3, 5, 1, 100, 6, 2], False)"
   ]
  },
  {
   "cell_type": "code",
   "execution_count": null,
   "id": "8370196d-174e-43c2-b813-c71f1c9a6bd6",
   "metadata": {},
   "outputs": [],
   "source": []
  }
 ],
 "metadata": {
  "kernelspec": {
   "display_name": "Python 3 (ipykernel)",
   "language": "python",
   "name": "python3"
  },
  "language_info": {
   "codemirror_mode": {
    "name": "ipython",
    "version": 3
   },
   "file_extension": ".py",
   "mimetype": "text/x-python",
   "name": "python",
   "nbconvert_exporter": "python",
   "pygments_lexer": "ipython3",
   "version": "3.8.8"
  }
 },
 "nbformat": 4,
 "nbformat_minor": 5
}

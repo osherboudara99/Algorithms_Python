{
 "cells": [
  {
   "cell_type": "markdown",
   "id": "9cf999a3-5c54-465e-91ab-e403873cccbc",
   "metadata": {},
   "source": [
    "### Merge Sort (One Array) (Ascending)"
   ]
  },
  {
   "cell_type": "code",
   "execution_count": 9,
   "id": "8a8f5c09-e09e-4aa9-8739-b8aba88bb190",
   "metadata": {},
   "outputs": [],
   "source": [
    "import math\n",
    "def merge_sort(arr):\n",
    "    if len(arr) > 1:\n",
    "        mid = math.floor(len(arr) / 2)\n",
    "        a = arr[:mid]\n",
    "        b = arr[mid:]\n",
    "        a = merge_sort(a)\n",
    "        b = merge_sort(b)\n",
    "        aLen = len(a)\n",
    "        bLen = len(b)\n",
    "        i = j = k = 0\n",
    "        while i < aLen and j < bLen:\n",
    "            if a[i] < b[j]:\n",
    "                arr[k]= a[i]\n",
    "                i+=1\n",
    "            else:\n",
    "                arr[k] = b[j]\n",
    "                j+=1\n",
    "            k+=1\n",
    "        while i < aLen:\n",
    "            arr[k]= a[i]\n",
    "            k+=1\n",
    "            i+=1\n",
    "        while j < bLen:\n",
    "            arr[k] = b[j]\n",
    "            k+=1\n",
    "            j+=1\n",
    "    return arr"
   ]
  },
  {
   "cell_type": "code",
   "execution_count": 10,
   "id": "2ac9ee50-6352-43f2-a6bd-d1de914b5518",
   "metadata": {},
   "outputs": [
    {
     "name": "stdout",
     "output_type": "stream",
     "text": [
      "[1, 1] ------ Action: 1 was swapped with 1\n",
      "[1, 3] ------ Action: 3 was swapped with 3\n",
      "[4, 6] ------ Action: 4 was swapped with 4\n",
      "[4, 6] ------ Action: 6 was swapped with 6\n",
      "[1, 1, 4, 6] ------ Action: 1 was swapped with 1\n",
      "[1, 3, 4, 6] ------ Action: 3 was swapped with 3\n",
      "[1, 3, 4, 6] ------ Action: 4 was swapped with 4\n",
      "[1, 3, 4, 6] ------ Action: 6 was swapped with 6\n",
      "[2, 2] ------ Action: 2 was swapped with 2\n",
      "[2, 9] ------ Action: 9 was swapped with 9\n",
      "[5, 8] ------ Action: 5 was swapped with 5\n",
      "[5, 8] ------ Action: 8 was swapped with 8\n",
      "[4, 5, 8] ------ Action: 4 was swapped with 4\n",
      "[4, 5, 8] ------ Action: 5 was swapped with 5\n",
      "[4, 5, 8] ------ Action: 8 was swapped with 8\n",
      "[2, 2, 4, 5, 8] ------ Action: 2 was swapped with 2\n",
      "[2, 4, 4, 5, 8] ------ Action: 4 was swapped with 4\n",
      "[2, 4, 5, 5, 8] ------ Action: 5 was swapped with 5\n",
      "[2, 4, 5, 8, 8] ------ Action: 8 was swapped with 8\n",
      "[2, 4, 5, 8, 9] ------ Action: 9 was swapped with 9\n",
      "[1, 1, 4, 6, 9, 2, 4, 5, 8] ------ Action: 1 was swapped with 1\n",
      "[1, 2, 4, 6, 9, 2, 4, 5, 8] ------ Action: 2 was swapped with 2\n",
      "[1, 2, 3, 6, 9, 2, 4, 5, 8] ------ Action: 3 was swapped with 3\n",
      "[1, 2, 3, 4, 9, 2, 4, 5, 8] ------ Action: 4 was swapped with 4\n",
      "[1, 2, 3, 4, 4, 2, 4, 5, 8] ------ Action: 4 was swapped with 4\n",
      "[1, 2, 3, 4, 4, 5, 4, 5, 8] ------ Action: 5 was swapped with 5\n",
      "[1, 2, 3, 4, 4, 5, 6, 5, 8] ------ Action: 6 was swapped with 6\n",
      "[1, 2, 3, 4, 4, 5, 6, 8, 8] ------ Action: 8 was swapped with 8\n",
      "[1, 2, 3, 4, 4, 5, 6, 8, 9] ------ Action: 9 was swapped with 9\n"
     ]
    },
    {
     "data": {
      "text/plain": [
       "[1, 2, 3, 4, 4, 5, 6, 8, 9]"
      ]
     },
     "execution_count": 10,
     "metadata": {},
     "output_type": "execute_result"
    }
   ],
   "source": [
    "merge_sort([3, 1,4,6,9, 2, 4, 5, 8])"
   ]
  },
  {
   "cell_type": "markdown",
   "id": "504e5308-22e1-4ec7-9c9d-352052b3da6d",
   "metadata": {},
   "source": [
    "### Two-Way Merge Sort (Sorting Two Arrays) (Ascending)"
   ]
  },
  {
   "cell_type": "code",
   "execution_count": 3,
   "id": "3e881e4b-5f45-4519-a7fb-d63301147627",
   "metadata": {},
   "outputs": [],
   "source": [
    "def merge_sort_two_way(a, b):\n",
    "    merge_sort(a)\n",
    "    merge_sort(b)\n",
    "    aLen = len(a)\n",
    "    bLen = len(b)\n",
    "    c = [None] * (aLen + bLen)\n",
    "    i = j = k = 0\n",
    "    while i < aLen and j < bLen:\n",
    "        if a[i] < b[j]:\n",
    "            c[k]= a[i]\n",
    "            i+=1\n",
    "        else:\n",
    "            c[k] = b[j]\n",
    "            j+=1\n",
    "        k+=1\n",
    "    while i < aLen:\n",
    "        c[k]= a[i]\n",
    "        k+=1\n",
    "        i+=1\n",
    "    while j < bLen:\n",
    "        c[k] = b[j]\n",
    "        k+=1\n",
    "        j+=1\n",
    "    return c"
   ]
  },
  {
   "cell_type": "code",
   "execution_count": 4,
   "id": "998d7365-f9ec-480f-a3de-62847dc35d09",
   "metadata": {},
   "outputs": [
    {
     "data": {
      "text/plain": [
       "[-1, 2, 2, 3, 4, 6, 8, 25]"
      ]
     },
     "execution_count": 4,
     "metadata": {},
     "output_type": "execute_result"
    }
   ],
   "source": [
    "merge_sort_two_way([2, 6, 3, -1], [4, 8, 25, 2])"
   ]
  },
  {
   "cell_type": "markdown",
   "id": "9c5be9b1-1487-4ebe-b432-bd882195cfe5",
   "metadata": {},
   "source": [
    "### Merge Sort (One Array) (Descending)"
   ]
  },
  {
   "cell_type": "code",
   "execution_count": 3,
   "id": "c0a8570d-e336-47af-8b54-1669de99f016",
   "metadata": {},
   "outputs": [],
   "source": [
    "import math\n",
    "def merge_sort_descending(arr):\n",
    "    if len(arr) > 1:\n",
    "        mid = math.floor(len(arr) / 2)\n",
    "        a = arr[:mid]\n",
    "        b = arr[mid:]\n",
    "        a = merge_sort_descending(a)\n",
    "        b = merge_sort_descending(b)\n",
    "        aLen = len(a)\n",
    "        bLen = len(b)\n",
    "        i = j = k = 0\n",
    "        while i < aLen and j < bLen:\n",
    "            if a[i] > b[j]:\n",
    "                arr[k]= a[i]\n",
    "                i+=1\n",
    "            elif a[i] < b[j]:\n",
    "                arr[k] = b[j]\n",
    "                j+=1\n",
    "            else:\n",
    "                arr[k] = a[i]\n",
    "                j+=1\n",
    "            k+=1\n",
    "        while i < aLen:\n",
    "            arr[k]= a[i]\n",
    "            k+=1\n",
    "            i+=1\n",
    "        while j < bLen:\n",
    "            arr[k] = b[j]\n",
    "            k+=1\n",
    "            j+=1\n",
    "    return arr"
   ]
  },
  {
   "cell_type": "code",
   "execution_count": 4,
   "id": "88395251-8f7c-4d56-a716-11a566697b01",
   "metadata": {},
   "outputs": [
    {
     "data": {
      "text/plain": [
       "[1000, 26, 8, 7, 2, 1, -1]"
      ]
     },
     "execution_count": 4,
     "metadata": {},
     "output_type": "execute_result"
    }
   ],
   "source": [
    "merge_sort_descending([2,1,26,7,8,-1, 1000])"
   ]
  },
  {
   "cell_type": "markdown",
   "id": "a734fdaf-eed4-4211-9cbc-01ad8bd5cd27",
   "metadata": {},
   "source": [
    "### Two-Way Merge Sort (Sorting Two Arrays) (Descending)"
   ]
  },
  {
   "cell_type": "code",
   "execution_count": 5,
   "id": "63a6400e-8fb6-4bcd-8e14-9606664a13e0",
   "metadata": {},
   "outputs": [],
   "source": [
    "def merge_sort_two_way_descending(a, b):\n",
    "    merge_sort_descending(a)\n",
    "    merge_sort_descending(b)\n",
    "    aLen = len(a)\n",
    "    bLen = len(b)\n",
    "    c = [None] * (aLen + bLen)\n",
    "    i = j = k = 0\n",
    "    while i < aLen and j < bLen:\n",
    "        if a[i] > b[j]:\n",
    "            c[k]= a[i]\n",
    "            i+=1\n",
    "        elif a[i] < b[j]:\n",
    "            c[k] = b[j]\n",
    "            j+=1\n",
    "        else:\n",
    "            c[k] = a[i]\n",
    "            j+=1\n",
    "        k+=1\n",
    "    while i < aLen:\n",
    "        c[k]= a[i]\n",
    "        k+=1\n",
    "        i+=1\n",
    "    while j < bLen:\n",
    "        c[k] = b[j]\n",
    "        k+=1\n",
    "        j+=1\n",
    "    return c"
   ]
  },
  {
   "cell_type": "code",
   "execution_count": 6,
   "id": "96e789de-db26-4b1a-8721-fb8ea007160a",
   "metadata": {},
   "outputs": [
    {
     "data": {
      "text/plain": [
       "[1000, 100, 9, 8, 3, 2, 1, -1]"
      ]
     },
     "execution_count": 6,
     "metadata": {},
     "output_type": "execute_result"
    }
   ],
   "source": [
    "merge_sort_two_way_descending([2,8,1,-1], [100,1000,3, 9])"
   ]
  },
  {
   "cell_type": "code",
   "execution_count": null,
   "id": "d99c21e6-eb59-441b-812f-fca619a5a244",
   "metadata": {},
   "outputs": [],
   "source": []
  }
 ],
 "metadata": {
  "kernelspec": {
   "display_name": "Python 3 (ipykernel)",
   "language": "python",
   "name": "python3"
  },
  "language_info": {
   "codemirror_mode": {
    "name": "ipython",
    "version": 3
   },
   "file_extension": ".py",
   "mimetype": "text/x-python",
   "name": "python",
   "nbconvert_exporter": "python",
   "pygments_lexer": "ipython3",
   "version": "3.8.8"
  }
 },
 "nbformat": 4,
 "nbformat_minor": 5
}

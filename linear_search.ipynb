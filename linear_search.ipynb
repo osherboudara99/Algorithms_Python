{
 "cells": [
  {
   "cell_type": "code",
   "execution_count": 12,
   "id": "0751e433-7648-4f38-b142-b91945f7244c",
   "metadata": {},
   "outputs": [],
   "source": [
    "def linear_search(arr, key):\n",
    "    found = False\n",
    "    print('Array:', arr)\n",
    "    for i in range(len(arr)):\n",
    "        if key == arr[i]:\n",
    "            print('The value {0} was found at index {1}'.format(key, i))\n",
    "            found = True\n",
    "            break\n",
    "    if not found:\n",
    "        print('The value {0} was not found.'.format(key))\n",
    "    return\n",
    "            \n",
    "            "
   ]
  },
  {
   "cell_type": "code",
   "execution_count": 13,
   "id": "e84dac71-c7b9-4daf-9355-626b2342a132",
   "metadata": {},
   "outputs": [
    {
     "name": "stdout",
     "output_type": "stream",
     "text": [
      "Array: [2, 5, 6, 1]\n",
      "The value 7 was not found.\n"
     ]
    }
   ],
   "source": [
    "linear_search([2,5,6,1], 7)"
   ]
  },
  {
   "cell_type": "code",
   "execution_count": null,
   "id": "2dc3994a-b3f6-407c-b5b6-20dbcea8bcdb",
   "metadata": {},
   "outputs": [],
   "source": []
  }
 ],
 "metadata": {
  "kernelspec": {
   "display_name": "Python 3 (ipykernel)",
   "language": "python",
   "name": "python3"
  },
  "language_info": {
   "codemirror_mode": {
    "name": "ipython",
    "version": 3
   },
   "file_extension": ".py",
   "mimetype": "text/x-python",
   "name": "python",
   "nbconvert_exporter": "python",
   "pygments_lexer": "ipython3",
   "version": "3.8.8"
  }
 },
 "nbformat": 4,
 "nbformat_minor": 5
}

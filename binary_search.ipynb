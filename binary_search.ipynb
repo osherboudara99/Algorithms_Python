{
 "cells": [
  {
   "cell_type": "markdown",
   "id": "452453e5-a73c-43e5-a2f9-c1cb2685392a",
   "metadata": {},
   "source": [
    "### Binary Search Recursive and Iterative"
   ]
  },
  {
   "cell_type": "code",
   "execution_count": 1,
   "id": "a94f8d63-4775-40ee-b45e-07c5299f203b",
   "metadata": {},
   "outputs": [],
   "source": [
    "def print_binary_search(key, start, end):\n",
    "    print(f\"Key: {key}\")\n",
    "    print(f\"Current Start: {start}\")\n",
    "    print(f\"Current End: {end}\")\n",
    "    print(\"---------------------\")"
   ]
  },
  {
   "cell_type": "code",
   "execution_count": 2,
   "id": "564bc128-69b1-4064-a5d1-86688b126fda",
   "metadata": {},
   "outputs": [],
   "source": [
    "import math\n",
    "def bin_search_iterative(arr, key):\n",
    "    arr.sort()\n",
    "    start = 0\n",
    "    end = len(arr) - 1\n",
    "    while end >= start:\n",
    "        print_binary_search(key, start, end)\n",
    "        mid = math.floor((start + end)/ 2)\n",
    "        if key == arr[mid]:\n",
    "            print(f\"Key {key} is located at index {mid}\")\n",
    "            return\n",
    "        if key < arr[mid]:\n",
    "            end = mid - 1\n",
    "        else:\n",
    "            start =  mid + 1\n",
    "    print(\"Key not found.\")\n",
    "            "
   ]
  },
  {
   "cell_type": "code",
   "execution_count": 3,
   "id": "e33b6327-6607-4387-811b-d90468ce2497",
   "metadata": {},
   "outputs": [
    {
     "name": "stdout",
     "output_type": "stream",
     "text": [
      "Key: 9\n",
      "Current Start: 0\n",
      "Current End: 6\n",
      "---------------------\n",
      "Key: 9\n",
      "Current Start: 4\n",
      "Current End: 6\n",
      "---------------------\n",
      "Key: 9\n",
      "Current Start: 6\n",
      "Current End: 6\n",
      "---------------------\n",
      "Key not found.\n"
     ]
    }
   ],
   "source": [
    "bin_search_iterative([1,2,3,4,8,6,7], 9)"
   ]
  },
  {
   "cell_type": "code",
   "execution_count": 4,
   "id": "8f4c60a2-32f5-482e-b06e-6ebb2547a4db",
   "metadata": {},
   "outputs": [],
   "source": [
    "def bin_search_recursive(arr, key, start=0, end=None):\n",
    "    arr.sort()\n",
    "    if end is None:\n",
    "        end = len(arr) -1\n",
    "    print_binary_search(key, start, end)\n",
    "    if start == end:\n",
    "        if arr[start] == key or arr[end] == key:\n",
    "            print(f\"Key {key} is located at index {start}\")\n",
    "            return\n",
    "        else:\n",
    "            print(\"Key not found.\")\n",
    "            return\n",
    "    else:\n",
    "        mid = math.floor((start+end)/ 2)\n",
    "        if arr[mid] == key:\n",
    "            print(f\"Key {key} is located at index {mid}\")\n",
    "            return\n",
    "        if arr[mid] > key:\n",
    "            return bin_search_recursive(arr, key, start, mid -1)\n",
    "        else:\n",
    "            return bin_search_recursive(arr, key, mid + 1, end)\n",
    "        \n",
    "        \n",
    "            \n"
   ]
  },
  {
   "cell_type": "code",
   "execution_count": 5,
   "id": "9f1e5229-99e8-4cec-ad10-f0c3e5d7423f",
   "metadata": {},
   "outputs": [
    {
     "name": "stdout",
     "output_type": "stream",
     "text": [
      "Key: 5\n",
      "Current Start: 0\n",
      "Current End: 7\n",
      "---------------------\n",
      "Key: 5\n",
      "Current Start: 4\n",
      "Current End: 7\n",
      "---------------------\n",
      "Key: 5\n",
      "Current Start: 4\n",
      "Current End: 4\n",
      "---------------------\n",
      "Key 5 is located at index 4\n"
     ]
    }
   ],
   "source": [
    "bin_search_recursive([1,2,3,4,5,8,6,7], 5)"
   ]
  },
  {
   "cell_type": "code",
   "execution_count": null,
   "id": "ab534f20-c83d-4e48-946a-5a616a8548c7",
   "metadata": {},
   "outputs": [],
   "source": []
  }
 ],
 "metadata": {
  "kernelspec": {
   "display_name": "Python 3 (ipykernel)",
   "language": "python",
   "name": "python3"
  },
  "language_info": {
   "codemirror_mode": {
    "name": "ipython",
    "version": 3
   },
   "file_extension": ".py",
   "mimetype": "text/x-python",
   "name": "python",
   "nbconvert_exporter": "python",
   "pygments_lexer": "ipython3",
   "version": "3.8.8"
  }
 },
 "nbformat": 4,
 "nbformat_minor": 5
}

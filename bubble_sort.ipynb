{
 "cells": [
  {
   "cell_type": "code",
   "execution_count": 30,
   "id": "45a8618e-4eed-4df9-9ac0-72646096d79b",
   "metadata": {},
   "outputs": [],
   "source": [
    "def bubble_sort_iterative(arr, ascending=True):\n",
    "    if ascending:\n",
    "        print('Bubble Sort Ascending')\n",
    "        [print('-', end='') for i in range(60)]\n",
    "        print()\n",
    "    else:\n",
    "        print('Bubble Sort Descending')\n",
    "        [print('-', end='') for i in range(60)]\n",
    "        print()\n",
    "    print(arr, '------ Original Array')\n",
    "\n",
    "    for i in range(len(arr)-1):\n",
    "        for j in range(len(arr)-i-1):\n",
    "            if ascending:\n",
    "                if arr[j] > arr[j+1]:\n",
    "                    arr[j], arr[j+1] = arr[j+1], arr[j]\n",
    "                    print(arr, f'------ Action: {arr[j+1]} was swapped with {arr[j]}')\n",
    "            else:\n",
    "                if arr[j] < arr[j+1]:\n",
    "                    arr[j], arr[j+1] = arr[j+1], arr[j]\n",
    "                    print(arr, f'------ Action: {arr[j+1]} was swapped with {arr[j]}')\n",
    "          \n",
    "    return arr"
   ]
  },
  {
   "cell_type": "code",
   "execution_count": 34,
   "id": "42c4ed1f-bf2e-4ad0-b165-3931deec6415",
   "metadata": {},
   "outputs": [
    {
     "name": "stdout",
     "output_type": "stream",
     "text": [
      "Bubble Sort Ascending\n",
      "------------------------------------------------------------\n",
      "[3, 6, 2, 4, 1] ------ Original Array\n",
      "[3, 2, 6, 4, 1] ------ Action: 6 was swapped with 2\n",
      "[3, 2, 4, 6, 1] ------ Action: 6 was swapped with 4\n",
      "[3, 2, 4, 1, 6] ------ Action: 6 was swapped with 1\n",
      "[2, 3, 4, 1, 6] ------ Action: 3 was swapped with 2\n",
      "[2, 3, 1, 4, 6] ------ Action: 4 was swapped with 1\n",
      "[2, 1, 3, 4, 6] ------ Action: 3 was swapped with 1\n",
      "[1, 2, 3, 4, 6] ------ Action: 2 was swapped with 1\n"
     ]
    },
    {
     "data": {
      "text/plain": [
       "[1, 2, 3, 4, 6]"
      ]
     },
     "execution_count": 34,
     "metadata": {},
     "output_type": "execute_result"
    }
   ],
   "source": [
    "bubble_sort_iterative([3,6,2,4,1], True)"
   ]
  },
  {
   "cell_type": "code",
   "execution_count": null,
   "id": "682de804-0e39-4f16-a6d4-4c11b6b373db",
   "metadata": {},
   "outputs": [],
   "source": []
  }
 ],
 "metadata": {
  "kernelspec": {
   "display_name": "Python 3 (ipykernel)",
   "language": "python",
   "name": "python3"
  },
  "language_info": {
   "codemirror_mode": {
    "name": "ipython",
    "version": 3
   },
   "file_extension": ".py",
   "mimetype": "text/x-python",
   "name": "python",
   "nbconvert_exporter": "python",
   "pygments_lexer": "ipython3",
   "version": "3.8.8"
  }
 },
 "nbformat": 4,
 "nbformat_minor": 5
}

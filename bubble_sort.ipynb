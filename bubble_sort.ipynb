{
 "cells": [
  {
   "cell_type": "code",
   "execution_count": 44,
   "id": "45a8618e-4eed-4df9-9ac0-72646096d79b",
   "metadata": {},
   "outputs": [],
   "source": [
    "def bubble_sort_iterative(arr, ascending=True):\n",
    "    if ascending:\n",
    "        print('Bubble Sort Ascending Iterative')\n",
    "        [print('-', end='') for i in range(60)]\n",
    "        print()\n",
    "    else:\n",
    "        print('Bubble Sort Descending Iterative')\n",
    "        [print('-', end='') for i in range(60)]\n",
    "        print()\n",
    "    print(arr, '------ Original Array')\n",
    "\n",
    "    for i in range(len(arr)-1):\n",
    "        for j in range(len(arr)-i-1):\n",
    "            if ascending:\n",
    "                if arr[j] > arr[j+1]:\n",
    "                    arr[j], arr[j+1] = arr[j+1], arr[j]\n",
    "                    print(arr, f'------ Action: {arr[j+1]} was swapped with {arr[j]}')\n",
    "            else:\n",
    "                if arr[j] < arr[j+1]:\n",
    "                    arr[j], arr[j+1] = arr[j+1], arr[j]\n",
    "                    print(arr, f'------ Action: {arr[j+1]} was swapped with {arr[j]}')\n",
    "          \n",
    "    return arr"
   ]
  },
  {
   "cell_type": "code",
   "execution_count": 45,
   "id": "42c4ed1f-bf2e-4ad0-b165-3931deec6415",
   "metadata": {},
   "outputs": [
    {
     "name": "stdout",
     "output_type": "stream",
     "text": [
      "Bubble Sort Ascending Iterative\n",
      "------------------------------------------------------------\n",
      "[3, 6, 2, 4, 1] ------ Original Array\n",
      "[3, 2, 6, 4, 1] ------ Action: 6 was swapped with 2\n",
      "[3, 2, 4, 6, 1] ------ Action: 6 was swapped with 4\n",
      "[3, 2, 4, 1, 6] ------ Action: 6 was swapped with 1\n",
      "[2, 3, 4, 1, 6] ------ Action: 3 was swapped with 2\n",
      "[2, 3, 1, 4, 6] ------ Action: 4 was swapped with 1\n",
      "[2, 1, 3, 4, 6] ------ Action: 3 was swapped with 1\n",
      "[1, 2, 3, 4, 6] ------ Action: 2 was swapped with 1\n"
     ]
    },
    {
     "data": {
      "text/plain": [
       "[1, 2, 3, 4, 6]"
      ]
     },
     "execution_count": 45,
     "metadata": {},
     "output_type": "execute_result"
    }
   ],
   "source": [
    "bubble_sort_iterative([3,6,2,4,1], True)"
   ]
  },
  {
   "cell_type": "code",
   "execution_count": 52,
   "id": "682de804-0e39-4f16-a6d4-4c11b6b373db",
   "metadata": {},
   "outputs": [],
   "source": [
    "def bubble_sort_recursive(arr, length = None, ascending=True):\n",
    "    if length == None:\n",
    "        length = len(arr)\n",
    "        \n",
    "        if ascending:\n",
    "            print('Bubble Sort Ascending Recursive')\n",
    "            [print('-', end='') for i in range(60)]\n",
    "            print()\n",
    "        else:\n",
    "            print('Bubble Sort Descending Recursive')\n",
    "            [print('-', end='') for i in range(60)]\n",
    "            print()\n",
    "        print(arr, '------ Original Array')\n",
    "    \n",
    "    count = 0\n",
    "    if len(arr) == 1:\n",
    "        return\n",
    "    \n",
    "    for j in range(len(arr)-1):\n",
    "        if ascending:\n",
    "            if arr[j] > arr[j+1]:\n",
    "                arr[j], arr[j+1] = arr[j+1], arr[j]\n",
    "                print(arr, f'------ Action: {arr[j+1]} was swapped with {arr[j]}')\n",
    "                count += 1\n",
    "        else:\n",
    "            if arr[j] < arr[j+1]:\n",
    "                arr[j], arr[j+1] = arr[j+1], arr[j]\n",
    "                print(arr, f'------ Action: {arr[j+1]} was swapped with {arr[j]}')\n",
    "                count += 1\n",
    "    if count == 0:\n",
    "        return\n",
    "                \n",
    "    bubble_sort_recursive(arr, length - 1, ascending)\n",
    "        "
   ]
  },
  {
   "cell_type": "code",
   "execution_count": 53,
   "id": "91a6f552-e446-48ad-af33-61caca1f4435",
   "metadata": {},
   "outputs": [
    {
     "name": "stdout",
     "output_type": "stream",
     "text": [
      "Bubble Sort Ascending Recursive\n",
      "------------------------------------------------------------\n",
      "[4, 5, 2, 3] ------ Original Array\n",
      "[4, 2, 5, 3] ------ Action: 5 was swapped with 2\n",
      "[4, 2, 3, 5] ------ Action: 5 was swapped with 3\n",
      "[2, 4, 3, 5] ------ Action: 4 was swapped with 2\n",
      "[2, 3, 4, 5] ------ Action: 4 was swapped with 3\n"
     ]
    }
   ],
   "source": [
    "bubble_sort_recursive([4,5,2,3])"
   ]
  },
  {
   "cell_type": "code",
   "execution_count": null,
   "id": "41c97dfb-0df0-4483-829f-62b42c4ba563",
   "metadata": {},
   "outputs": [],
   "source": []
  }
 ],
 "metadata": {
  "kernelspec": {
   "display_name": "Python 3 (ipykernel)",
   "language": "python",
   "name": "python3"
  },
  "language_info": {
   "codemirror_mode": {
    "name": "ipython",
    "version": 3
   },
   "file_extension": ".py",
   "mimetype": "text/x-python",
   "name": "python",
   "nbconvert_exporter": "python",
   "pygments_lexer": "ipython3",
   "version": "3.8.8"
  }
 },
 "nbformat": 4,
 "nbformat_minor": 5
}

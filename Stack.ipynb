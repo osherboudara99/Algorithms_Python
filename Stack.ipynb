{
 "cells": [
  {
   "cell_type": "code",
   "execution_count": 38,
   "id": "6c7a09bf-d3c8-4099-9123-f79cae375dd0",
   "metadata": {},
   "outputs": [],
   "source": [
    "class Stack:\n",
    "    def __init__(self):\n",
    "        self.stack = []\n",
    "\n",
    "    def push(self, data):\n",
    "        self.stack.append(data)\n",
    "        print(f'{data} has been pushed to stack')\n",
    "\n",
    "    def pop(self):\n",
    "        if self.stack:\n",
    "            value = self.stack.pop()\n",
    "            print(f'{value} has been popped from the stack.')\n",
    "        else:\n",
    "            print('Stack is empty!')\n",
    "\n",
    "    def length(self):\n",
    "        print('Length of Stack: ', len(self.stack))\n",
    "\n",
    "    def peek(self):\n",
    "        if self.stack:\n",
    "            print('Peeked Value (Value on Top of stack):', self.stack[-1])\n",
    "        else:\n",
    "             print('Stack is empty!')\n",
    "            \n",
    "    def empty_stack(self):\n",
    "        for i in range(len(self.stack)):\n",
    "            print(f'{self.stack.pop()} has been popped from the stack.')\n",
    "        print('Stack is empty!')\n",
    "            \n",
    "        \n",
    "\n",
    "\n",
    "\n",
    "        "
   ]
  },
  {
   "cell_type": "code",
   "execution_count": 39,
   "id": "181f47eb-6fa9-4ce0-90f6-c74596cf5501",
   "metadata": {},
   "outputs": [],
   "source": [
    "stack= Stack()"
   ]
  },
  {
   "cell_type": "code",
   "execution_count": 40,
   "id": "ed647da7-cf38-41e2-a750-53d20586f95f",
   "metadata": {},
   "outputs": [
    {
     "name": "stdout",
     "output_type": "stream",
     "text": [
      "1 has been pushed to stack\n",
      "3 has been pushed to stack\n",
      "5 has been pushed to stack\n",
      "7 has been pushed to stack\n",
      "9 has been pushed to stack\n",
      "11 has been pushed to stack\n",
      "13 has been pushed to stack\n",
      "15 has been pushed to stack\n",
      "17 has been pushed to stack\n",
      "19 has been pushed to stack\n"
     ]
    }
   ],
   "source": [
    "for i in range(1,20, 2):    \n",
    "    stack.push(i)\n"
   ]
  },
  {
   "cell_type": "code",
   "execution_count": 41,
   "id": "3b521ea8-515f-4502-ae14-c61c2f805e55",
   "metadata": {},
   "outputs": [
    {
     "name": "stdout",
     "output_type": "stream",
     "text": [
      "19 has been popped from the stack.\n"
     ]
    }
   ],
   "source": [
    "stack.pop()"
   ]
  },
  {
   "cell_type": "code",
   "execution_count": 42,
   "id": "25250031-345d-4a5e-b97b-8f8c9de3feb1",
   "metadata": {},
   "outputs": [
    {
     "name": "stdout",
     "output_type": "stream",
     "text": [
      "Length of Stack:  9\n"
     ]
    }
   ],
   "source": [
    "stack.length()"
   ]
  },
  {
   "cell_type": "code",
   "execution_count": 43,
   "id": "84714333-b331-4a2c-ba45-786bf9c9c863",
   "metadata": {},
   "outputs": [
    {
     "name": "stdout",
     "output_type": "stream",
     "text": [
      "17 has been popped from the stack.\n",
      "15 has been popped from the stack.\n",
      "13 has been popped from the stack.\n",
      "11 has been popped from the stack.\n",
      "9 has been popped from the stack.\n",
      "7 has been popped from the stack.\n",
      "5 has been popped from the stack.\n",
      "3 has been popped from the stack.\n",
      "1 has been popped from the stack.\n",
      "Stack is empty!\n"
     ]
    }
   ],
   "source": [
    "stack.empty_stack()"
   ]
  },
  {
   "cell_type": "code",
   "execution_count": 44,
   "id": "93cfa3e6-76f2-42c9-8959-3fcfe5deeace",
   "metadata": {},
   "outputs": [
    {
     "name": "stdout",
     "output_type": "stream",
     "text": [
      "Stack is empty!\n"
     ]
    }
   ],
   "source": [
    "stack.peek()"
   ]
  },
  {
   "cell_type": "code",
   "execution_count": null,
   "id": "f6817dd5-843b-482f-bd52-ff9b081eb0c3",
   "metadata": {},
   "outputs": [],
   "source": []
  }
 ],
 "metadata": {
  "kernelspec": {
   "display_name": "Python 3 (ipykernel)",
   "language": "python",
   "name": "python3"
  },
  "language_info": {
   "codemirror_mode": {
    "name": "ipython",
    "version": 3
   },
   "file_extension": ".py",
   "mimetype": "text/x-python",
   "name": "python",
   "nbconvert_exporter": "python",
   "pygments_lexer": "ipython3",
   "version": "3.13.0"
  }
 },
 "nbformat": 4,
 "nbformat_minor": 5
}

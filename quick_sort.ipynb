{
 "cells": [
  {
   "cell_type": "markdown",
   "id": "a67d9e0b-09ac-4d9a-b848-6f5665509a6c",
   "metadata": {},
   "source": [
    "### Quicksort Ascending and Descending Sort"
   ]
  },
  {
   "cell_type": "code",
   "execution_count": 498,
   "id": "eda7280d-f7a2-4fc2-a4d2-e3391741c044",
   "metadata": {},
   "outputs": [],
   "source": [
    "import math\n",
    "def partition_ascending(arr, low, high):\n",
    "    pivot = arr[high]\n",
    "    i = low - 1\n",
    "    for j in range(low, high):\n",
    "        if arr[j] <= pivot:\n",
    "            i += 1\n",
    "            (arr[i],arr[j]) = (arr[j],arr[i])\n",
    "            if arr[i] != arr[j]:\n",
    "                print(arr, f'------ Action: {arr[i]} was swapped with {arr[j]}')\n",
    "    (arr[i+1], arr[high]) = (arr[high], arr[i+1])\n",
    "    if arr[i+1] != arr[high]:\n",
    "        print(arr, f'------ Action: {arr[high]} was swapped with {arr[i+1]}')\n",
    "    return i+1\n",
    "\n",
    "def partition_descending(arr, low, high):\n",
    "    pivot = arr[low]\n",
    "    j = high\n",
    "    i = low\n",
    "    while i < j:\n",
    "        while arr[j] <= pivot and i < j:\n",
    "            j -= 1\n",
    "        while arr[i] >= pivot and i < j:\n",
    "            i += 1  \n",
    "        (arr[i],arr[j]) = (arr[j],arr[i])\n",
    "        if arr[i] != arr[j]:\n",
    "                print(arr, f'------ Action: {arr[i]} was swapped with {arr[j]}')\n",
    "    (arr[low], arr[j]) = (arr[j], arr[low])\n",
    "    if arr[low] != arr[j]:\n",
    "        print(arr, f'------ Action: {arr[j]} was swapped with {arr[low]}')\n",
    "    return j\n",
    "\n",
    "\n",
    "def QuickSort(arr, low = 0, high = None, ascending = True):\n",
    "    \n",
    "    if high is None:\n",
    "        if ascending:\n",
    "            print('Quicksort Ascending')\n",
    "            [print('-', end='') for i in range(60)]\n",
    "            print()\n",
    "        else:\n",
    "            print('Quicksort Descending')\n",
    "            [print('-', end='') for i in range(60)]\n",
    "            print()\n",
    "        high = len(arr) - 1\n",
    "        print(arr, '------ Original Array')\n",
    "\n",
    "    if ascending:\n",
    "        if low < high:\n",
    "            index = partition_ascending(arr, low, high)\n",
    "            QuickSort(arr, low, index-1)\n",
    "            QuickSort(arr, index+1, high)\n",
    "    else:\n",
    "        if low < high:\n",
    "            index = partition_descending(arr, low, high)\n",
    "            QuickSort(arr, low, index-1, False)\n",
    "            QuickSort(arr, index+1, high, False)\n",
    "        \n",
    "    return arr"
   ]
  },
  {
   "cell_type": "code",
   "execution_count": 499,
   "id": "2cc443da-1a18-4ff2-b484-8806c6c9a0b4",
   "metadata": {},
   "outputs": [
    {
     "name": "stdout",
     "output_type": "stream",
     "text": [
      "Quicksort Descending\n",
      "------------------------------------------------------------\n",
      "[1, 2, 3, 4] ------ Original Array\n",
      "[4, 2, 3, 1] ------ Action: 1 was swapped with 4\n",
      "[4, 3, 2, 1] ------ Action: 2 was swapped with 3\n"
     ]
    },
    {
     "data": {
      "text/plain": [
       "[4, 3, 2, 1]"
      ]
     },
     "execution_count": 499,
     "metadata": {},
     "output_type": "execute_result"
    }
   ],
   "source": [
    "QuickSort([1,2,3,4], ascending=False)"
   ]
  },
  {
   "cell_type": "code",
   "execution_count": null,
   "id": "0f5b0749-b9a4-4a0a-9256-c493abfafc74",
   "metadata": {},
   "outputs": [],
   "source": []
  },
  {
   "cell_type": "code",
   "execution_count": null,
   "id": "ce8e2f16-1c10-4d43-a823-52fa1601facb",
   "metadata": {},
   "outputs": [],
   "source": []
  }
 ],
 "metadata": {
  "kernelspec": {
   "display_name": "Python 3 (ipykernel)",
   "language": "python",
   "name": "python3"
  },
  "language_info": {
   "codemirror_mode": {
    "name": "ipython",
    "version": 3
   },
   "file_extension": ".py",
   "mimetype": "text/x-python",
   "name": "python",
   "nbconvert_exporter": "python",
   "pygments_lexer": "ipython3",
   "version": "3.8.8"
  }
 },
 "nbformat": 4,
 "nbformat_minor": 5
}

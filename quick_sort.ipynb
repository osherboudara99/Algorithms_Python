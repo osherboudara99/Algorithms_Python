{
 "cells": [
  {
   "cell_type": "code",
   "execution_count": 49,
   "id": "eda7280d-f7a2-4fc2-a4d2-e3391741c044",
   "metadata": {},
   "outputs": [],
   "source": [
    "def partition_ascending(arr, low, high):\n",
    "    pivot = arr[high]\n",
    "    i = low - 1\n",
    "    for j in range(low, high):\n",
    "        if arr[j] <= pivot:\n",
    "            i += 1\n",
    "            (arr[i],arr[j]) = (arr[j],arr[i])\n",
    "    (arr[i+1], arr[high]) = (arr[high], arr[i+1])\n",
    "    return i+1\n",
    "\n",
    "def partition_descending(arr, low, high):\n",
    "    pivot = arr[low]\n",
    "    j=high\n",
    "    for i in range(low, high):\n",
    "        if arr[i] > pivot:\n",
    "            j -= 1\n",
    "            (arr[i],arr[j]) = (arr[j],arr[i])\n",
    "    (arr[low], arr[j-1]) = (arr[j-1], arr[low])\n",
    "    return j\n",
    "\n",
    "\n",
    "def QuickSort(arr, low = 0, high = None, ascending = True):\n",
    "    \n",
    "    if high is None:\n",
    "        high = len(arr) - 1\n",
    "    if ascending:\n",
    "        if low < high:\n",
    "            index = partition_ascending(arr, low, high)\n",
    "            QuickSort(arr, low, index-1)\n",
    "            QuickSort(arr, index+1, high)\n",
    "    else:\n",
    "        if low < high:\n",
    "            index = partition_descending(arr, low, high)\n",
    "            QuickSort(arr, low, index-1, False)\n",
    "            QuickSort(arr, index+1, high, False)\n",
    "        \n",
    "    return arr"
   ]
  },
  {
   "cell_type": "code",
   "execution_count": 52,
   "id": "2cc443da-1a18-4ff2-b484-8806c6c9a0b4",
   "metadata": {},
   "outputs": [
    {
     "data": {
      "text/plain": [
       "[10, 5, 8, 3, 2]"
      ]
     },
     "execution_count": 52,
     "metadata": {},
     "output_type": "execute_result"
    }
   ],
   "source": [
    "QuickSort([5, 8, 3, 10, 2], ascending=False)"
   ]
  },
  {
   "cell_type": "code",
   "execution_count": null,
   "id": "0f5b0749-b9a4-4a0a-9256-c493abfafc74",
   "metadata": {},
   "outputs": [],
   "source": []
  }
 ],
 "metadata": {
  "kernelspec": {
   "display_name": "Python 3 (ipykernel)",
   "language": "python",
   "name": "python3"
  },
  "language_info": {
   "codemirror_mode": {
    "name": "ipython",
    "version": 3
   },
   "file_extension": ".py",
   "mimetype": "text/x-python",
   "name": "python",
   "nbconvert_exporter": "python",
   "pygments_lexer": "ipython3",
   "version": "3.8.8"
  }
 },
 "nbformat": 4,
 "nbformat_minor": 5
}

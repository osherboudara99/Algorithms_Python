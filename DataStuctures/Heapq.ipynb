{
 "cells": [
  {
   "cell_type": "code",
   "execution_count": 24,
   "id": "08a21068-4cd7-4ce9-a3a9-f92261052d99",
   "metadata": {},
   "outputs": [],
   "source": [
    "# Min heap using heapq\n",
    "\n",
    "import heapq\n",
    "import numpy as np"
   ]
  },
  {
   "cell_type": "code",
   "execution_count": 25,
   "id": "56ddb5c6-dd30-4d3a-aeed-5ef7de864929",
   "metadata": {},
   "outputs": [],
   "source": [
    "l = [12, 1, 43, 2, 34, 52, 6, 8]\n",
    "l = [int(i) for i in l]"
   ]
  },
  {
   "cell_type": "code",
   "execution_count": 26,
   "id": "b628d68b-44c0-40b9-94a2-3b61ee617027",
   "metadata": {},
   "outputs": [],
   "source": [
    "heapq.heapify(l)"
   ]
  },
  {
   "cell_type": "code",
   "execution_count": 27,
   "id": "2076de28-567a-4246-91dc-36362c896b38",
   "metadata": {},
   "outputs": [
    {
     "name": "stdout",
     "output_type": "stream",
     "text": [
      "[1, 2, 6, 8, 34, 52, 43, 12]\n"
     ]
    }
   ],
   "source": [
    "print(l)"
   ]
  },
  {
   "cell_type": "code",
   "execution_count": 28,
   "id": "cf36a7bc-e984-442b-a4ef-ac9990325697",
   "metadata": {},
   "outputs": [],
   "source": [
    "heapq.heappush(l, 4)"
   ]
  },
  {
   "cell_type": "code",
   "execution_count": 29,
   "id": "41b13f35-3925-45a3-b8c4-04bad30c03a0",
   "metadata": {},
   "outputs": [
    {
     "name": "stdout",
     "output_type": "stream",
     "text": [
      "[1, 2, 6, 4, 34, 52, 43, 12, 8]\n"
     ]
    }
   ],
   "source": [
    "print(l)"
   ]
  },
  {
   "cell_type": "code",
   "execution_count": 30,
   "id": "773c4927-988c-4f67-a8a2-17bff4c336a5",
   "metadata": {},
   "outputs": [
    {
     "data": {
      "text/plain": [
       "1"
      ]
     },
     "execution_count": 30,
     "metadata": {},
     "output_type": "execute_result"
    }
   ],
   "source": [
    "heapq.heappop(l)"
   ]
  },
  {
   "cell_type": "code",
   "execution_count": 31,
   "id": "c01aeba0-b1d1-4696-b132-970b7eaef5b8",
   "metadata": {},
   "outputs": [
    {
     "name": "stdout",
     "output_type": "stream",
     "text": [
      "[2, 4, 6, 8, 34, 52, 43, 12]\n"
     ]
    }
   ],
   "source": [
    "print(l)"
   ]
  },
  {
   "cell_type": "code",
   "execution_count": 34,
   "id": "1157f69e-1b8d-428e-94e1-e160cd32f249",
   "metadata": {},
   "outputs": [
    {
     "data": {
      "text/plain": [
       "2"
      ]
     },
     "execution_count": 34,
     "metadata": {},
     "output_type": "execute_result"
    }
   ],
   "source": [
    "# Push pop simultaneously\n",
    "heapq.heappushpop(l, 7)"
   ]
  },
  {
   "cell_type": "code",
   "execution_count": 35,
   "id": "5c235cc9-db1d-460d-ac6a-85d0e3959181",
   "metadata": {},
   "outputs": [
    {
     "name": "stdout",
     "output_type": "stream",
     "text": [
      "[4, 7, 6, 8, 34, 52, 43, 12]\n"
     ]
    }
   ],
   "source": [
    "print(l)"
   ]
  },
  {
   "cell_type": "code",
   "execution_count": 36,
   "id": "e2d7e9d2-515a-4730-96f0-e7ced4c26f1f",
   "metadata": {},
   "outputs": [
    {
     "data": {
      "text/plain": [
       "4"
      ]
     },
     "execution_count": 36,
     "metadata": {},
     "output_type": "execute_result"
    }
   ],
   "source": [
    "# Replace pop item with pushed item\n",
    "heapq.heapreplace(l,2)"
   ]
  },
  {
   "cell_type": "code",
   "execution_count": 37,
   "id": "92459665-eb5d-4696-b54b-39d8da42068d",
   "metadata": {},
   "outputs": [
    {
     "name": "stdout",
     "output_type": "stream",
     "text": [
      "[2, 7, 6, 8, 34, 52, 43, 12]\n"
     ]
    }
   ],
   "source": [
    "print(l)"
   ]
  },
  {
   "cell_type": "code",
   "execution_count": 39,
   "id": "7162c02b-d9b5-44ed-8732-cf9557a43db6",
   "metadata": {},
   "outputs": [
    {
     "data": {
      "text/plain": [
       "[52, 43, 34, 12]"
      ]
     },
     "execution_count": 39,
     "metadata": {},
     "output_type": "execute_result"
    }
   ],
   "source": [
    "heapq.nlargest(4, l)"
   ]
  },
  {
   "cell_type": "code",
   "execution_count": 40,
   "id": "66b2e97f-5b42-4ce1-875e-34d2483cc34f",
   "metadata": {},
   "outputs": [
    {
     "data": {
      "text/plain": [
       "[2, 6]"
      ]
     },
     "execution_count": 40,
     "metadata": {},
     "output_type": "execute_result"
    }
   ],
   "source": [
    "heapq.nsmallest(2, l)"
   ]
  },
  {
   "cell_type": "code",
   "execution_count": null,
   "id": "4002dd1b-6e1f-43c3-a3cf-8c8ef5eff70d",
   "metadata": {},
   "outputs": [],
   "source": []
  }
 ],
 "metadata": {
  "kernelspec": {
   "display_name": "Python 3 (ipykernel)",
   "language": "python",
   "name": "python3"
  },
  "language_info": {
   "codemirror_mode": {
    "name": "ipython",
    "version": 3
   },
   "file_extension": ".py",
   "mimetype": "text/x-python",
   "name": "python",
   "nbconvert_exporter": "python",
   "pygments_lexer": "ipython3",
   "version": "3.13.0"
  }
 },
 "nbformat": 4,
 "nbformat_minor": 5
}

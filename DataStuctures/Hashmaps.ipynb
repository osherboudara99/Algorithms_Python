{
 "cells": [
  {
   "cell_type": "code",
   "execution_count": 66,
   "id": "5852106b-9d25-4e83-a282-0d756cf62c61",
   "metadata": {},
   "outputs": [],
   "source": [
    "class HashMaps:\n",
    "    def __init__(self):\n",
    "        self.hashmap = {}\n",
    "\n",
    "    def put(self, key, value):\n",
    "        self.hashmap[key] = value\n",
    "        print(f'{value} has been saved at the key {key}')\n",
    "\n",
    "    def get(self, key):\n",
    "        if self.hashmap:\n",
    "            try:\n",
    "                print(f'The value at the key {key} is {self.hashmap[key]}')\n",
    "            except:\n",
    "                print(f'No value for key {key}!')\n",
    "        else:\n",
    "            print('Hashmap is empty!')\n",
    "\n",
    "    def remove(self, key):\n",
    "        if self.hashmap:\n",
    "            try:\n",
    "                value = self.hashmap[key]\n",
    "                del self.hashmap[key]\n",
    "                print(f'The key-value pair of {key}:{value} has been removed from the hashmap')\n",
    "            except:\n",
    "                print(f'{key} already does not exist!')\n",
    "        else:\n",
    "            print('Hashmap is empty!')\n",
    "    \n",
    "    def contains_key(self, key):\n",
    "        if self.hashmap:\n",
    "            if key in self.hashmap.keys():\n",
    "                return True\n",
    "            else:\n",
    "                return False\n",
    "        else:\n",
    "            print('Hashmap is empty!')\n",
    "\n",
    "    def contains_value(self, value):\n",
    "        if self.hashmap:\n",
    "            if value in self.hashmap.values():\n",
    "                return True\n",
    "            else:\n",
    "                return False\n",
    "        else:\n",
    "            print('Hashmap is empty!')\n",
    "\n",
    "    def length(self):\n",
    "        if self.hashmap:\n",
    "            print('Length of Hashmap: ', len(self.hashmap))\n",
    "        else:\n",
    "            print('Hashmap is empty!')\n",
    "    \n",
    "    def empty_hashmap(self):\n",
    "        self.hashmap = {}\n",
    "        print('Hashmap has been emptied')\n",
    "\n",
    "    def print_all_keys(self):\n",
    "        print('List of keys:', list(self.hashmap.keys()))\n",
    "\n",
    "    def print_all_values(self):\n",
    "        print('List of values:', list(self.hashmap.values()))\n",
    "\n",
    "    def print_hashmap(self):\n",
    "        return self.hashmap\n",
    "        \n",
    "    \n",
    "        \n",
    "    \n",
    "        \n",
    "        "
   ]
  },
  {
   "cell_type": "code",
   "execution_count": 67,
   "id": "257039bb-660d-4b01-99fc-e2ab5eae872d",
   "metadata": {},
   "outputs": [],
   "source": [
    "hashmap = HashMaps()"
   ]
  },
  {
   "cell_type": "code",
   "execution_count": 68,
   "id": "e7308a24-dbb9-4937-a5ec-ad1b47a146ba",
   "metadata": {},
   "outputs": [
    {
     "name": "stdout",
     "output_type": "stream",
     "text": [
      "1 has been saved at the key A\n",
      "3 has been saved at the key B\n",
      "5 has been saved at the key C\n",
      "7 has been saved at the key D\n",
      "9 has been saved at the key E\n"
     ]
    }
   ],
   "source": [
    "for i, j in zip(['A' , 'B', 'C', 'D', 'E'], range(1,10, 2)):\n",
    "    hashmap.put(i, j)"
   ]
  },
  {
   "cell_type": "code",
   "execution_count": 69,
   "id": "06d47aa7-453e-4a39-a53a-12bf7eb30b3b",
   "metadata": {},
   "outputs": [
    {
     "data": {
      "text/plain": [
       "{'A': 1, 'B': 3, 'C': 5, 'D': 7, 'E': 9}"
      ]
     },
     "execution_count": 69,
     "metadata": {},
     "output_type": "execute_result"
    }
   ],
   "source": [
    "hashmap.print_hashmap()"
   ]
  },
  {
   "cell_type": "code",
   "execution_count": 70,
   "id": "6b71f3a2-5db7-44ac-a986-dc2de6034b4c",
   "metadata": {},
   "outputs": [
    {
     "name": "stdout",
     "output_type": "stream",
     "text": [
      "The value at the key A is 1\n"
     ]
    }
   ],
   "source": [
    "hashmap.get('A')"
   ]
  },
  {
   "cell_type": "code",
   "execution_count": 71,
   "id": "4cdc6c80-b533-4d14-8c06-6e756fdb8752",
   "metadata": {},
   "outputs": [
    {
     "name": "stdout",
     "output_type": "stream",
     "text": [
      "No value for key 1!\n"
     ]
    }
   ],
   "source": [
    "hashmap.get(1)"
   ]
  },
  {
   "cell_type": "code",
   "execution_count": 72,
   "id": "96187420-1723-47f8-a2a8-0f2dfb21cb37",
   "metadata": {},
   "outputs": [
    {
     "name": "stdout",
     "output_type": "stream",
     "text": [
      "2 already does not exist!\n"
     ]
    }
   ],
   "source": [
    "hashmap.remove(2)"
   ]
  },
  {
   "cell_type": "code",
   "execution_count": 73,
   "id": "c1fb073d-cb22-4b08-9479-f5961a6f5011",
   "metadata": {},
   "outputs": [
    {
     "name": "stdout",
     "output_type": "stream",
     "text": [
      "The key-value pair of B:3 has been removed from the hashmap\n"
     ]
    }
   ],
   "source": [
    "hashmap.remove('B')"
   ]
  },
  {
   "cell_type": "code",
   "execution_count": 74,
   "id": "a6eb9fee-899f-4228-8665-c809bbf5f5ef",
   "metadata": {},
   "outputs": [
    {
     "data": {
      "text/plain": [
       "True"
      ]
     },
     "execution_count": 74,
     "metadata": {},
     "output_type": "execute_result"
    }
   ],
   "source": [
    "hashmap.contains_key('A')"
   ]
  },
  {
   "cell_type": "code",
   "execution_count": 75,
   "id": "234034bd-5cdb-4ef3-9af0-ed5c5554cac1",
   "metadata": {},
   "outputs": [
    {
     "data": {
      "text/plain": [
       "False"
      ]
     },
     "execution_count": 75,
     "metadata": {},
     "output_type": "execute_result"
    }
   ],
   "source": [
    "hashmap.contains_key(4)"
   ]
  },
  {
   "cell_type": "code",
   "execution_count": 76,
   "id": "60b95936-43e4-4e8c-a9d5-497c9c0b0af7",
   "metadata": {},
   "outputs": [
    {
     "data": {
      "text/plain": [
       "True"
      ]
     },
     "execution_count": 76,
     "metadata": {},
     "output_type": "execute_result"
    }
   ],
   "source": [
    "hashmap.contains_value(5)"
   ]
  },
  {
   "cell_type": "code",
   "execution_count": 77,
   "id": "a82c3946-9d55-4c91-b8e8-aebe60bd2b0a",
   "metadata": {},
   "outputs": [
    {
     "data": {
      "text/plain": [
       "False"
      ]
     },
     "execution_count": 77,
     "metadata": {},
     "output_type": "execute_result"
    }
   ],
   "source": [
    "hashmap.contains_value('A')"
   ]
  },
  {
   "cell_type": "code",
   "execution_count": 78,
   "id": "100a27e2-b85b-4986-a68b-8af220310c47",
   "metadata": {},
   "outputs": [
    {
     "name": "stdout",
     "output_type": "stream",
     "text": [
      "Length of Hashmap:  4\n"
     ]
    }
   ],
   "source": [
    "hashmap.length()"
   ]
  },
  {
   "cell_type": "code",
   "execution_count": 79,
   "id": "c5fcb5ef-d696-4b40-8e2c-b27cdf85050e",
   "metadata": {},
   "outputs": [
    {
     "name": "stdout",
     "output_type": "stream",
     "text": [
      "List of keys: ['A', 'C', 'D', 'E']\n"
     ]
    }
   ],
   "source": [
    "hashmap.print_all_keys()"
   ]
  },
  {
   "cell_type": "code",
   "execution_count": 80,
   "id": "f540aad1-a134-4441-81da-81b33963d599",
   "metadata": {},
   "outputs": [
    {
     "name": "stdout",
     "output_type": "stream",
     "text": [
      "List of values: [1, 5, 7, 9]\n"
     ]
    }
   ],
   "source": [
    "hashmap.print_all_values()"
   ]
  },
  {
   "cell_type": "code",
   "execution_count": 81,
   "id": "2c8aaddf-6820-4623-bc2a-fcbfb0edfda4",
   "metadata": {},
   "outputs": [
    {
     "name": "stdout",
     "output_type": "stream",
     "text": [
      "Hashmap has been emptied\n"
     ]
    }
   ],
   "source": [
    "hashmap.empty_hashmap()"
   ]
  },
  {
   "cell_type": "code",
   "execution_count": 82,
   "id": "f07a23ea-bd18-4214-8e81-83f1f7f6ea86",
   "metadata": {},
   "outputs": [
    {
     "name": "stdout",
     "output_type": "stream",
     "text": [
      "Hashmap is empty!\n"
     ]
    }
   ],
   "source": [
    "hashmap.length()"
   ]
  },
  {
   "cell_type": "code",
   "execution_count": null,
   "id": "aca65f93-6c05-4ad1-a092-4a8db8fb3128",
   "metadata": {},
   "outputs": [],
   "source": []
  }
 ],
 "metadata": {
  "kernelspec": {
   "display_name": "Python 3 (ipykernel)",
   "language": "python",
   "name": "python3"
  },
  "language_info": {
   "codemirror_mode": {
    "name": "ipython",
    "version": 3
   },
   "file_extension": ".py",
   "mimetype": "text/x-python",
   "name": "python",
   "nbconvert_exporter": "python",
   "pygments_lexer": "ipython3",
   "version": "3.13.0"
  }
 },
 "nbformat": 4,
 "nbformat_minor": 5
}

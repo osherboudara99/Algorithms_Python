{
 "cells": [
  {
   "cell_type": "markdown",
   "id": "c9d76c66-338b-40d5-9861-fd4f2d24d840",
   "metadata": {},
   "source": [
    "Linked List (LL) is a type of linear data structure similar to arrays. It is a collection of **nodes** that are linked to eachother. A node contains two things: the **data** and the **link that connects it to the another node**. Our first node is where our **\"Head\"** points and we can access all the elements of a linked list using the **head**."
   ]
  },
  {
   "cell_type": "code",
   "execution_count": 2,
   "id": "f5bf5a8d-c0b1-4e12-8e86-294d41470847",
   "metadata": {},
   "outputs": [],
   "source": [
    "from PIL import Image"
   ]
  },
  {
   "cell_type": "code",
   "execution_count": 4,
   "id": "1777da3e-3810-43cd-b1ff-512dae0de33d",
   "metadata": {},
   "outputs": [
    {
     "data": {
      "image/png": "[encoded data removed]",
      "text/plain": [
       "<PIL.PngImagePlugin.PngImageFile image mode=RGBA size=812x221>"
      ]
     },
     "execution_count": 4,
     "metadata": {},
     "output_type": "execute_result"
    }
   ],
   "source": [
    "Image.open(r'C:\\Users\\Osher N Boudara\\OneDrive\\Desktop_Ubuntu\\Projects\\Algorithms_Python\\linked_list.png')"
   ]
  },
  {
   "cell_type": "markdown",
   "id": "17f4cb36-68a7-4eec-80ae-059c94ff4564",
   "metadata": {},
   "source": [
    "Steps to create linked list\n",
    "- Initialize linked list with an empty head (```__init__```)\n",
    "- Create insert series of insert functions: insert_beginning, insert_index, insert_end\n",
    "- Create remove_node function\n",
    "- Create size of Linked List (LL) function\n",
    "- Create function to output LL"
   ]
  },
  {
   "cell_type": "code",
   "execution_count": 5,
   "id": "1d351820-3510-40ce-a95f-0b9edee6b662",
   "metadata": {},
   "outputs": [],
   "source": [
    "# Create a node class initialized to empty that stores two pieces of information\n",
    "# Data stored in node and the link that connects it to the next node\n",
    "class Node:\n",
    "    def __init__(self, data):\n",
    "        self.data=data\n",
    "        self.next=None"
   ]
  },
  {
   "cell_type": "code",
   "execution_count": 175,
   "id": "fc86ede5-8e07-4df0-9b5f-94073a2fe47b",
   "metadata": {},
   "outputs": [],
   "source": [
    "class LinkedList:\n",
    "    def __init__(self):\n",
    "        self.head = None # create head of linked list\n",
    "\n",
    "    def insert_beginning(self, data):\n",
    "        new_node = Node(data)\n",
    "        new_node.next = self.head ## Setting next to head (which is none)\n",
    "        self.head = new_node # Head now starts at new node (since we inserted at beginning)\n",
    "\n",
    "    def print_LL(self):\n",
    "        current_node = self.head # start from head when printing\n",
    "        while current_node:\n",
    "            print(current_node.data, end=\" \")\n",
    "            current_node = current_node.next\n",
    "\n",
    "    def insert_at_index(self, data, index):\n",
    "\n",
    "        if index == 0: # if insert in 0 index, then call insert at beginning function\n",
    "            self.insert_beginning(data) \n",
    "            return\n",
    "\n",
    "        # obtain the current index and node at current index\n",
    "        position = 0 \n",
    "        current_node = self.head \n",
    "\n",
    "        # Traverse through LL till our position till our position is 1 less than the index\n",
    "        while current_node != None and position + 1 != index:\n",
    "            position += 1\n",
    "            # print(current_node.data)\n",
    "            current_node = current_node.next\n",
    "\n",
    "        # current node is now node prior to index\n",
    "        if current_node != None:\n",
    "            new_node = Node(data) # Create new node\n",
    "            new_node.next = current_node.next # take our current nodes link and attach it to new node (attaching link of next node after current node)\n",
    "            current_node.next = new_node # attach link to our new node from node prior to position\n",
    "        else:\n",
    "            print('Index not found')\n",
    "            \n",
    "\n",
    "    def insert_end(self,data):\n",
    "        new_node = Node(data) # Create the node not attached\n",
    "\n",
    "        if self.head is None: # If linked list is empty, attach node to head\n",
    "            self.head = new_node\n",
    "            return\n",
    "\n",
    "        current_node = self.head # if linked list is not empty\n",
    "        while(current_node.next): # traverse linked list until end\n",
    "            current_node = current_node.next\n",
    "\n",
    "        current_node.next = new_node # added node at the end\n",
    "\n",
    "    def update_data(self, val, index):\n",
    "        current_node = self.head\n",
    "        position = 0\n",
    "\n",
    "        if position == index:\n",
    "            current_node.data = val\n",
    "        \n",
    "        while(current_node.next != None and position != index): # traverse linked list until we get to the index of interest (note not index prior)\n",
    "            position += 1\n",
    "            current_node = current_node.next\n",
    "\n",
    "        if current_node != None:\n",
    "            current_node.data = val\n",
    "        else:\n",
    "            print(\"Index not present\")\n",
    "\n",
    "        \n",
    "        \n",
    "    def remove_beginning(self):\n",
    "        if self.head is None:\n",
    "            return\n",
    "\n",
    "        self.head = self.head.next\n",
    "\n",
    "    def remove_end(self):\n",
    "        if self.head is None:\n",
    "            return\n",
    "\n",
    "        current_node = self.head\n",
    "\n",
    "        while current_node.next != None and current_node.next.next != None: # if the current node has a link and if the node after it has a link, if node does not have link, then break\n",
    "            # print(current_node.data)\n",
    "            # print(current_node.next)\n",
    "            # print(current_node.next.next)\n",
    "            # print(current_node.next.next.next)\n",
    "            current_node = current_node.next\n",
    "\n",
    "        current_node.next = None # set current node which has link to none to remove link to last node\n",
    "\n",
    "    def remove_from_index(self, index):\n",
    "        # if linked list empty, return \n",
    "        if self.head is None:\n",
    "            return\n",
    "\n",
    "        # start from head\n",
    "        position = 0 \n",
    "        current_node = self.head \n",
    "        \n",
    "        # if index to remove is 0 => then call remove beginning function\n",
    "        if index == 0: \n",
    "            self.remove_beginning(data) \n",
    "            return\n",
    "        else: # index not at beginning\n",
    "            while current_node != None and position + 1 != index: # traverse until we are in position right before index\n",
    "                position += 1\n",
    "                current_node = current_node.next\n",
    "    \n",
    "            if current_node is None or current_node.next is None:  # if current node (node prior to insertion) is empty or its link to next node (index of interest) is empty, we are outside of LL bounds\n",
    "                print('Index not found')\n",
    "            else:\n",
    "                current_node.next = current_node.next.next # set previous node link to link of the next node, omitting node at index\n",
    "\n",
    "    def remove_data(self, data):\n",
    "\n",
    "        current_node = self.head # start at the beginning\n",
    "\n",
    "        if current_node.data == data: # if data is at current node, call remove from beginning\n",
    "            self.remove_beginning()\n",
    "            return\n",
    "\n",
    "        while current_node != None and current_node.next.data != data: # traverse till you are in node prior to where data exists\n",
    "            current_node = current_node.next\n",
    "\n",
    "        if current_node is None: # We have traversed full LL and not found data\n",
    "            print('Data not found in Linked List')\n",
    "        else:\n",
    "            current_node.next = current_node.next.next # set previous node link to link of the next node, omitting node where data = data\n",
    "\n",
    "\n",
    "    def length_LL(self):\n",
    "        size = 0\n",
    "        if self.head:\n",
    "            current_node = self.head\n",
    "            while(current_node):\n",
    "                size +=1\n",
    "                current_node = current_node.next\n",
    "            return size\n",
    "        else:\n",
    "            return 0\n",
    "\n",
    "\n",
    "    def reverse(self):\n",
    "\n",
    "        prev = None\n",
    "        current_node = self.head\n",
    "\n",
    "        while current_node:\n",
    "            next_node = current_node.next # variable for node after my current one\n",
    "            current_node.next = prev # change node after current one to my previous node (reverse link)\n",
    "            prev = current_node # change previous node to my current node\n",
    "            current_node = next_node # change current_node to next node and step through LinkedList\n",
    "\n",
    "        self.head = prev\n",
    "        "
   ]
  },
  {
   "cell_type": "code",
   "execution_count": 176,
   "id": "775cb127-a066-4f8a-a2d0-b4362c48531a",
   "metadata": {},
   "outputs": [],
   "source": [
    "llist = LinkedList()"
   ]
  },
  {
   "cell_type": "code",
   "execution_count": 177,
   "id": "b83439f3-c63f-4de1-b405-b98569d880cb",
   "metadata": {},
   "outputs": [],
   "source": [
    "llist.insert_beginning(5)\n",
    "llist.insert_beginning(51)\n",
    "llist.insert_beginning(2)\n",
    "llist.insert_beginning(33)"
   ]
  },
  {
   "cell_type": "code",
   "execution_count": 178,
   "id": "bd6c9961-07a0-427e-8ece-f040bdaafb0b",
   "metadata": {},
   "outputs": [],
   "source": [
    "llist.insert_end(25)"
   ]
  },
  {
   "cell_type": "code",
   "execution_count": 179,
   "id": "d9239591-e41e-41cf-ab92-1315c68a95a9",
   "metadata": {},
   "outputs": [
    {
     "name": "stdout",
     "output_type": "stream",
     "text": [
      "33 2 51 5 25 "
     ]
    }
   ],
   "source": [
    "llist.print_LL()"
   ]
  },
  {
   "cell_type": "code",
   "execution_count": 180,
   "id": "1ae711ed-b976-40ee-9f76-64764da086b0",
   "metadata": {},
   "outputs": [],
   "source": [
    "llist.remove_beginning()"
   ]
  },
  {
   "cell_type": "code",
   "execution_count": 181,
   "id": "5df4f123-c752-40eb-aa4d-21e54427f87e",
   "metadata": {},
   "outputs": [],
   "source": [
    "llist.insert_at_index(66, 2)"
   ]
  },
  {
   "cell_type": "code",
   "execution_count": 182,
   "id": "79c0bd14-c6aa-4df9-b495-9ea1c2033aef",
   "metadata": {},
   "outputs": [
    {
     "name": "stdout",
     "output_type": "stream",
     "text": [
      "2 51 66 5 25 "
     ]
    }
   ],
   "source": [
    "llist.print_LL()"
   ]
  },
  {
   "cell_type": "code",
   "execution_count": 183,
   "id": "676d36b8-68eb-499d-a4b6-be12624c2d5a",
   "metadata": {},
   "outputs": [],
   "source": [
    "llist.remove_end()"
   ]
  },
  {
   "cell_type": "code",
   "execution_count": 184,
   "id": "61965d9c-a788-4307-9def-b8a0a634120b",
   "metadata": {},
   "outputs": [
    {
     "name": "stdout",
     "output_type": "stream",
     "text": [
      "2 51 66 5 "
     ]
    }
   ],
   "source": [
    "llist.print_LL()"
   ]
  },
  {
   "cell_type": "code",
   "execution_count": 185,
   "id": "4992fd52-a477-4b2f-b729-049e1885ae92",
   "metadata": {},
   "outputs": [],
   "source": [
    "llist.remove_end()"
   ]
  },
  {
   "cell_type": "code",
   "execution_count": 186,
   "id": "53591733-fc2f-48fb-86b7-fcdc81712f20",
   "metadata": {},
   "outputs": [
    {
     "name": "stdout",
     "output_type": "stream",
     "text": [
      "2 51 66 "
     ]
    }
   ],
   "source": [
    "llist.print_LL()"
   ]
  },
  {
   "cell_type": "code",
   "execution_count": 187,
   "id": "50f1fe3d-754c-4261-9d0b-873bb3e898b6",
   "metadata": {},
   "outputs": [],
   "source": [
    "llist.remove_from_index(1)"
   ]
  },
  {
   "cell_type": "code",
   "execution_count": 188,
   "id": "8350cffb-e3f7-4bf4-b75d-3964eded2fbd",
   "metadata": {},
   "outputs": [
    {
     "name": "stdout",
     "output_type": "stream",
     "text": [
      "2 66 "
     ]
    }
   ],
   "source": [
    "llist.print_LL()"
   ]
  },
  {
   "cell_type": "code",
   "execution_count": 189,
   "id": "66f63cb3-d23c-4339-80ca-f0a788d1551d",
   "metadata": {},
   "outputs": [],
   "source": [
    "llist.reverse()"
   ]
  },
  {
   "cell_type": "code",
   "execution_count": 192,
   "id": "f9125610-760f-4443-935c-b756148ec8e1",
   "metadata": {},
   "outputs": [
    {
     "name": "stdout",
     "output_type": "stream",
     "text": [
      "66 2 "
     ]
    }
   ],
   "source": [
    "llist.print_LL()"
   ]
  },
  {
   "cell_type": "code",
   "execution_count": null,
   "id": "5faf4952-83e1-4169-aed4-33c8dd3c04f3",
   "metadata": {},
   "outputs": [],
   "source": []
  }
 ],
 "metadata": {
  "kernelspec": {
   "display_name": "Python 3 (ipykernel)",
   "language": "python",
   "name": "python3"
  },
  "language_info": {
   "codemirror_mode": {
    "name": "ipython",
    "version": 3
   },
   "file_extension": ".py",
   "mimetype": "text/x-python",
   "name": "python",
   "nbconvert_exporter": "python",
   "pygments_lexer": "ipython3",
   "version": "3.13.0"
  }
 },
 "nbformat": 4,
 "nbformat_minor": 5
}

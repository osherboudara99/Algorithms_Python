{
 "cells": [
  {
   "cell_type": "code",
   "execution_count": 1,
   "id": "e113c076-6444-4fef-831f-210ac15c5c07",
   "metadata": {},
   "outputs": [],
   "source": [
    "from colorama import Back\n",
    "\n",
    "from PrettyPrint import PrettyPrintTree\n",
    "    \n",
    "\n",
    "class Tree:\n",
    "    def __init__(self, val):\n",
    "        self.node = val\n",
    "        self.left = None\n",
    "        self.right = None\n",
    "        \n",
    "\n",
    "    def insert_BST(self, val):\n",
    "        if self.node:\n",
    "            if val < self.node:\n",
    "                if self.left is None:\n",
    "                    self.left = Tree(val)\n",
    "                else:\n",
    "                    self.left.insert_BST(val)\n",
    "            elif val > self.node:\n",
    "                if self.right is None:\n",
    "                    self.right = Tree(val)\n",
    "                else:\n",
    "                    self.right.insert_BST(val)\n",
    "        else:\n",
    "            self.node = value\n",
    "\n",
    "    def print_tree(self, root):\n",
    "        pt = PrettyPrintTree(\n",
    "            lambda x: [x for x in [x.left, x.right] if x is not None],\n",
    "            lambda x: x.node,\n",
    "            color=Back.WHITE\n",
    "        )\n",
    "        return pt(root)\n",
    "\n",
    "    # Left->Root->Right\n",
    "    def in_order(self, root, first=True):\n",
    "        if first:\n",
    "            print('In Order Traversal:', end=' ')\n",
    "            first=False\n",
    "        if root:\n",
    "            self.in_order(root.left, first)\n",
    "            print(root.node, end =' ')\n",
    "            self.in_order(root.right, first)\n",
    "    # Root -> Left ->Right\n",
    "    def pre_order(self, root, first=True):\n",
    "        if first:\n",
    "            print('Pre Order Traversal:', end=' ')\n",
    "            first=False\n",
    "        if root:\n",
    "            print(root.node, end =' ')\n",
    "            self.pre_order(root.left, first)\n",
    "            self.pre_order(root.right, first)\n",
    "    # Left -> Right -> Root\n",
    "    def post_order(self, root, first=True):\n",
    "        if first:\n",
    "            print('Post Order Traversal:', end=' ')\n",
    "            first=False\n",
    "        if root:\n",
    "            self.post_order(root.left, first)\n",
    "            self.post_order(root.right, first)\n",
    "            print(root.node, end =' ')\n",
    "        \n",
    "        "
   ]
  },
  {
   "cell_type": "code",
   "execution_count": 2,
   "id": "68eb5428-5620-49cd-a036-e7241b1faf5a",
   "metadata": {},
   "outputs": [],
   "source": [
    "# Non BST insertion\n",
    "\n",
    "root = Tree(12)\n",
    "root.left = Tree(2)\n",
    "root.left.left = Tree(3)\n",
    "root.left.right = Tree(45)\n",
    "root.right = Tree(1)\n",
    "root.right.left = Tree(7)\n",
    "root.right.right = Tree(4)\n",
    "\n"
   ]
  },
  {
   "cell_type": "code",
   "execution_count": 3,
   "id": "eab027c6-b3f1-46b1-97bb-46d9ffe7e8e5",
   "metadata": {},
   "outputs": [
    {
     "name": "stdout",
     "output_type": "stream",
     "text": [
      "      \u001b[47m 12 \u001b[0m\n",
      "   ┌───┴────┐\n",
      "  \u001b[47m 2 \u001b[0m      \u001b[47m 1 \u001b[0m  \n",
      " ┌─┴─┐    ┌─┴─┐ \n",
      "\u001b[47m 3 \u001b[0m \u001b[47m 45 \u001b[0m \u001b[47m 7 \u001b[0m \u001b[47m 4 \u001b[0m\n"
     ]
    }
   ],
   "source": [
    "root.print_tree(root)"
   ]
  },
  {
   "cell_type": "code",
   "execution_count": 4,
   "id": "d05c4e3c-8074-4f06-90e5-40310753c3dc",
   "metadata": {},
   "outputs": [
    {
     "name": "stdout",
     "output_type": "stream",
     "text": [
      "In Order Traversal: 3 2 45 12 7 1 4 "
     ]
    }
   ],
   "source": [
    "root.in_order(root)"
   ]
  },
  {
   "cell_type": "code",
   "execution_count": 5,
   "id": "fd4fa0ff-42e7-43ff-8d4e-d8881976341b",
   "metadata": {},
   "outputs": [
    {
     "name": "stdout",
     "output_type": "stream",
     "text": [
      "Pre Order Traversal: 12 2 3 45 1 7 4 "
     ]
    }
   ],
   "source": [
    "root.pre_order(root)"
   ]
  },
  {
   "cell_type": "code",
   "execution_count": 6,
   "id": "25384018-3b6f-4399-8e9c-2fd647efc40e",
   "metadata": {},
   "outputs": [
    {
     "name": "stdout",
     "output_type": "stream",
     "text": [
      "Post Order Traversal: 3 45 2 7 4 1 12 "
     ]
    }
   ],
   "source": [
    "root.post_order(root)"
   ]
  },
  {
   "cell_type": "code",
   "execution_count": 7,
   "id": "29cf0884-0dd1-4af0-8bbe-73ef35c27813",
   "metadata": {},
   "outputs": [],
   "source": [
    "# BST Insertion\n",
    "\n",
    "root = Tree(12)\n",
    "for i in range(1, 30, 5):\n",
    "    root.insert_BST(i +12)\n",
    "    root.insert_BST(i)\n",
    "root.insert_BST(6)\n",
    "root.insert_BST(3)\n",
    "root.insert_BST(12)\n",
    "root.insert_BST(23)\n",
    "root.insert_BST(34)"
   ]
  },
  {
   "cell_type": "code",
   "execution_count": 8,
   "id": "abc168cb-9640-4e21-bf3d-ff70ada9f4ae",
   "metadata": {},
   "outputs": [
    {
     "name": "stdout",
     "output_type": "stream",
     "text": [
      "       \u001b[47m 12 \u001b[0m\n",
      "   ┌────┴─────┐\n",
      "  \u001b[47m 1 \u001b[0m        \u001b[47m 13 \u001b[0m           \n",
      "   |          |             \n",
      "  \u001b[47m 6 \u001b[0m        \u001b[47m 18 \u001b[0m           \n",
      " ┌─┴─┐    ┌───┴───┐         \n",
      "\u001b[47m 3 \u001b[0m \u001b[47m 11 \u001b[0m \u001b[47m 16 \u001b[0m    \u001b[47m 23 \u001b[0m       \n",
      "               ┌──┴───┐     \n",
      "              \u001b[47m 21 \u001b[0m   \u001b[47m 28 \u001b[0m   \n",
      "                    ┌─┴──┐  \n",
      "                   \u001b[47m 26 \u001b[0m \u001b[47m 33 \u001b[0m\n",
      "                         |  \n",
      "                        \u001b[47m 38 \u001b[0m\n",
      "                         |  \n",
      "                        \u001b[47m 34 \u001b[0m\n"
     ]
    }
   ],
   "source": [
    "root.print_tree(root)"
   ]
  },
  {
   "cell_type": "code",
   "execution_count": 9,
   "id": "53e6746f-3559-4cd3-9e7f-ebadbe6e5cc0",
   "metadata": {},
   "outputs": [
    {
     "name": "stdout",
     "output_type": "stream",
     "text": [
      "In Order Traversal: 1 3 6 11 12 13 16 18 21 23 26 28 33 34 38 "
     ]
    }
   ],
   "source": [
    "root.in_order(root)"
   ]
  },
  {
   "cell_type": "code",
   "execution_count": 10,
   "id": "1c8ae3f2-4fee-43fd-aa1b-0f6f74722d43",
   "metadata": {},
   "outputs": [
    {
     "name": "stdout",
     "output_type": "stream",
     "text": [
      "Pre Order Traversal: 12 1 6 3 11 13 18 16 23 21 28 26 33 38 34 "
     ]
    }
   ],
   "source": [
    "root.pre_order(root)"
   ]
  },
  {
   "cell_type": "code",
   "execution_count": 11,
   "id": "90e4295b-6f8f-48fb-8791-f907d715459b",
   "metadata": {},
   "outputs": [
    {
     "name": "stdout",
     "output_type": "stream",
     "text": [
      "Post Order Traversal: 3 11 6 1 16 21 26 34 38 33 28 23 18 13 12 "
     ]
    }
   ],
   "source": [
    "root.post_order(root)"
   ]
  },
  {
   "cell_type": "code",
   "execution_count": null,
   "id": "1e1e9658-eeb7-47ad-9909-630c45d99e2b",
   "metadata": {},
   "outputs": [],
   "source": []
  }
 ],
 "metadata": {
  "kernelspec": {
   "display_name": "Python 3 (ipykernel)",
   "language": "python",
   "name": "python3"
  },
  "language_info": {
   "codemirror_mode": {
    "name": "ipython",
    "version": 3
   },
   "file_extension": ".py",
   "mimetype": "text/x-python",
   "name": "python",
   "nbconvert_exporter": "python",
   "pygments_lexer": "ipython3",
   "version": "3.13.0"
  }
 },
 "nbformat": 4,
 "nbformat_minor": 5
}

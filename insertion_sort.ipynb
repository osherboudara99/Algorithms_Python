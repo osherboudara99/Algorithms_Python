{
 "cells": [
  {
   "cell_type": "code",
   "execution_count": 23,
   "id": "5024c0c2-cd5e-4f32-a59a-6498401dbf85",
   "metadata": {},
   "outputs": [],
   "source": [
    "def insertion_sort_iterative(arr, ascending=True):\n",
    "    for i in range(1, len(arr)):\n",
    "        predecessor = i - 1\n",
    "        current = arr[i]\n",
    "        \n",
    "        if ascending:\n",
    "            while predecessor >= 0  and arr[predecessor] > current:\n",
    "                arr[predecessor + 1] = arr[predecessor]\n",
    "                predecessor -= 1\n",
    "        else:\n",
    "            while predecessor >= 0  and arr[predecessor] < current:\n",
    "                arr[predecessor + 1] = arr[predecessor]\n",
    "                predecessor -= 1\n",
    "        arr[predecessor + 1] = current\n",
    "        \n",
    "    \n",
    "    return arr\n",
    "        \n",
    "            \n",
    "            "
   ]
  },
  {
   "cell_type": "code",
   "execution_count": 25,
   "id": "cd9fe002-d17a-4dd6-8e3e-6dde8e7c8450",
   "metadata": {},
   "outputs": [
    {
     "data": {
      "text/plain": [
       "[90, 20, 8, 3, 2, 1]"
      ]
     },
     "execution_count": 25,
     "metadata": {},
     "output_type": "execute_result"
    }
   ],
   "source": [
    "insertion_sort_iterative([3, 2, 8, 1, 90, 20], False)"
   ]
  },
  {
   "cell_type": "code",
   "execution_count": 20,
   "id": "b091231e-b370-4b85-a999-0554997dfd8d",
   "metadata": {},
   "outputs": [],
   "source": []
  },
  {
   "cell_type": "code",
   "execution_count": 22,
   "id": "944783ef-7a8e-4343-bc8f-77be78dfc768",
   "metadata": {},
   "outputs": [
    {
     "data": {
      "text/plain": [
       "[1000, 100, 6, 4, 2, 1]"
      ]
     },
     "execution_count": 22,
     "metadata": {},
     "output_type": "execute_result"
    }
   ],
   "source": [
    "insertion_sort_iterative([6,1,4,100, 2, 1000])"
   ]
  },
  {
   "cell_type": "code",
   "execution_count": null,
   "id": "d48857e7-fc4c-4a4c-aa8f-ee0e5ffead1b",
   "metadata": {},
   "outputs": [],
   "source": []
  }
 ],
 "metadata": {
  "kernelspec": {
   "display_name": "Python 3 (ipykernel)",
   "language": "python",
   "name": "python3"
  },
  "language_info": {
   "codemirror_mode": {
    "name": "ipython",
    "version": 3
   },
   "file_extension": ".py",
   "mimetype": "text/x-python",
   "name": "python",
   "nbconvert_exporter": "python",
   "pygments_lexer": "ipython3",
   "version": "3.8.8"
  }
 },
 "nbformat": 4,
 "nbformat_minor": 5
}

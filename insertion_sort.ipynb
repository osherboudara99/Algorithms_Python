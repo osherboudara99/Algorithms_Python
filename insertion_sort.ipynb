{
 "cells": [
  {
   "cell_type": "code",
   "execution_count": 51,
   "id": "5024c0c2-cd5e-4f32-a59a-6498401dbf85",
   "metadata": {},
   "outputs": [],
   "source": [
    "def insertion_sort_iterative(arr, ascending=True):\n",
    "    if ascending:\n",
    "        print('Insertion Sort Ascending Iterative')\n",
    "        [print('-', end='') for i in range(60)]\n",
    "        print()\n",
    "    else:\n",
    "        print('Insertion Sort Descending Iterative')\n",
    "        [print('-', end='') for i in range(60)]\n",
    "        print()\n",
    "    print(arr, '------ Original Array')\n",
    "    \n",
    "    \n",
    "    for i in range(1, len(arr)):\n",
    "        predecessor = i - 1\n",
    "        current = arr[i]\n",
    "        \n",
    "        if ascending:\n",
    "            while predecessor >= 0  and arr[predecessor] > current:\n",
    "                arr[predecessor + 1] = arr[predecessor]\n",
    "                predecessor -= 1\n",
    "                arr[predecessor + 1] = current\n",
    "                print(arr, f'------ Action: {arr[predecessor+2]} was swapped with {arr[predecessor+1]}')\n",
    "        else:\n",
    "            while predecessor >= 0  and arr[predecessor] < current:\n",
    "                arr[predecessor + 1] = arr[predecessor]\n",
    "                predecessor -= 1\n",
    "                arr[predecessor + 1] = current\n",
    "                print(arr, f'------ Action: {arr[predecessor+2]} was swapped with {arr[predecessor+1]}')\n",
    "        \n",
    "    return arr\n",
    "        \n",
    "            \n",
    "            "
   ]
  },
  {
   "cell_type": "code",
   "execution_count": 52,
   "id": "cd9fe002-d17a-4dd6-8e3e-6dde8e7c8450",
   "metadata": {},
   "outputs": [
    {
     "name": "stdout",
     "output_type": "stream",
     "text": [
      "Insertion Sort Ascending Iterative\n",
      "------------------------------------------------------------\n",
      "[3, 2, 8, 1, 90, 20] ------ Original Array\n",
      "[2, 3, 8, 1, 90, 20] ------ Action: 3 was swapped with 2\n",
      "[2, 3, 1, 8, 90, 20] ------ Action: 8 was swapped with 1\n",
      "[2, 1, 3, 8, 90, 20] ------ Action: 3 was swapped with 1\n",
      "[1, 2, 3, 8, 90, 20] ------ Action: 2 was swapped with 1\n",
      "[1, 2, 3, 8, 20, 90] ------ Action: 90 was swapped with 20\n"
     ]
    },
    {
     "data": {
      "text/plain": [
       "[1, 2, 3, 8, 20, 90]"
      ]
     },
     "execution_count": 52,
     "metadata": {},
     "output_type": "execute_result"
    }
   ],
   "source": [
    "insertion_sort_iterative([3, 2, 8, 1, 90, 20])"
   ]
  },
  {
   "cell_type": "code",
   "execution_count": 66,
   "id": "b091231e-b370-4b85-a999-0554997dfd8d",
   "metadata": {},
   "outputs": [],
   "source": [
    "def insertion_sort_recursive(arr, ascending=True, length = None):\n",
    "    if length is None:\n",
    "        length = len(arr)\n",
    "        \n",
    "        if ascending:\n",
    "            print('Insertion Sort Ascending Recursive')\n",
    "            [print('-', end='') for i in range(60)]\n",
    "            print()\n",
    "        else:\n",
    "            print('Insertion Sort Descending Recursive')\n",
    "            [print('-', end='') for i in range(60)]\n",
    "            print()\n",
    "        print(arr, '------ Original Array')\n",
    "        \n",
    "    if length <= 1:\n",
    "        return\n",
    "        \n",
    "    insertion_sort_recursive(arr, ascending, length-1)\n",
    "    \n",
    "    predecessor = length-2\n",
    "    current = arr[length-1]\n",
    "    \n",
    "        \n",
    "    if ascending:\n",
    "        while predecessor >= 0  and arr[predecessor] > current:\n",
    "            arr[predecessor + 1] = arr[predecessor]\n",
    "            predecessor -= 1\n",
    "            arr[predecessor + 1] = current\n",
    "            print(arr, f'------ Action: {arr[predecessor+2]} was swapped with {arr[predecessor+1]}')\n",
    "    else:\n",
    "        while predecessor >= 0  and arr[predecessor] < current:\n",
    "            arr[predecessor + 1] = arr[predecessor]\n",
    "            predecessor -= 1\n",
    "            arr[predecessor + 1] = current\n",
    "            print(arr, f'------ Action: {arr[predecessor+2]} was swapped with {arr[predecessor+1]}')\n",
    "            \n",
    "    return arr"
   ]
  },
  {
   "cell_type": "code",
   "execution_count": 68,
   "id": "9efe5b64-b8d5-467c-8b8e-a65898bc6142",
   "metadata": {},
   "outputs": [
    {
     "name": "stdout",
     "output_type": "stream",
     "text": [
      "Insertion Sort Ascending Recursive\n",
      "------------------------------------------------------------\n",
      "[3, 2, 7, 90, 12, 1] ------ Original Array\n",
      "[2, 3, 7, 90, 12, 1] ------ Action: 3 was swapped with 2\n",
      "[2, 3, 7, 12, 90, 1] ------ Action: 90 was swapped with 12\n",
      "[2, 3, 7, 12, 1, 90] ------ Action: 90 was swapped with 1\n",
      "[2, 3, 7, 1, 12, 90] ------ Action: 12 was swapped with 1\n",
      "[2, 3, 1, 7, 12, 90] ------ Action: 7 was swapped with 1\n",
      "[2, 1, 3, 7, 12, 90] ------ Action: 3 was swapped with 1\n",
      "[1, 2, 3, 7, 12, 90] ------ Action: 2 was swapped with 1\n"
     ]
    },
    {
     "data": {
      "text/plain": [
       "[1, 2, 3, 7, 12, 90]"
      ]
     },
     "execution_count": 68,
     "metadata": {},
     "output_type": "execute_result"
    }
   ],
   "source": [
    "insertion_sort_recursive([3, 2, 7, 90, 12, 1], True)"
   ]
  },
  {
   "cell_type": "code",
   "execution_count": null,
   "id": "a222e6ec-e7c3-46ca-ac77-21a626174a2a",
   "metadata": {},
   "outputs": [],
   "source": []
  }
 ],
 "metadata": {
  "kernelspec": {
   "display_name": "Python 3 (ipykernel)",
   "language": "python",
   "name": "python3"
  },
  "language_info": {
   "codemirror_mode": {
    "name": "ipython",
    "version": 3
   },
   "file_extension": ".py",
   "mimetype": "text/x-python",
   "name": "python",
   "nbconvert_exporter": "python",
   "pygments_lexer": "ipython3",
   "version": "3.8.8"
  }
 },
 "nbformat": 4,
 "nbformat_minor": 5
}

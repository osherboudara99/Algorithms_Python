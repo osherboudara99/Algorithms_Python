{
 "cells": [
  {
   "cell_type": "markdown",
   "id": "bac5859a-2f8c-4e9d-af5d-283e28a7e3cc",
   "metadata": {},
   "source": [
    "A queue is a fundamental data structure in computer science that follows the First-In-First-Out (FIFO) principle. It is a linear collection of elements, where each element is added to the end of the queue (enqueue) and removed from the front of the queue (dequeue)."
   ]
  },
  {
   "cell_type": "code",
   "execution_count": 13,
   "id": "5f7a5a84-d753-4ace-ab84-6d37d3a58db8",
   "metadata": {},
   "outputs": [],
   "source": [
    "class Queue:\n",
    "    def __init__(self):\n",
    "        self.queue = []\n",
    "\n",
    "    def enqueue(self, data):\n",
    "        self.queue.append(data)\n",
    "        print(f'{data} has been enqueued.')\n",
    "\n",
    "    def dequeue(self):\n",
    "        if self.queue:\n",
    "            value = self.queue[0]\n",
    "            del self.queue[0]\n",
    "            print(f'{value} has been dequeued')\n",
    "        else:\n",
    "            print('Queue is empty!')\n",
    "\n",
    "    def front_queue(self):\n",
    "        if self.queue:\n",
    "            print(f'{self.queue[0]} is at the front of the queue')\n",
    "        else:\n",
    "            print('Queue is empty!')\n",
    "\n",
    "    def rear_queue(self):\n",
    "        if self.queue:\n",
    "            print(f'{self.queue[-1]} is at the rear of the queue')\n",
    "        else:\n",
    "            print('Queue is empty!')\n",
    "\n",
    "    def length(self):\n",
    "        if self.queue:\n",
    "            print('Length of Queue: ', len(self.queue))\n",
    "        else:\n",
    "            print('Queue is empty!')\n",
    "\n",
    "    def empty_queue(self):\n",
    "        for i in range(len(self.queue)):\n",
    "            value = self.queue[0]\n",
    "            del self.queue[0]\n",
    "            print(f'{value} has been dequeued')\n",
    "        print('Queue is empty!')\n",
    "            "
   ]
  },
  {
   "cell_type": "code",
   "execution_count": 14,
   "id": "5c2363ae-b1f2-4b82-89e1-446e007bfbb0",
   "metadata": {},
   "outputs": [],
   "source": [
    "queue = Queue()"
   ]
  },
  {
   "cell_type": "code",
   "execution_count": 15,
   "id": "de63e255-85fa-4b8c-8529-60a74550cef6",
   "metadata": {},
   "outputs": [
    {
     "name": "stdout",
     "output_type": "stream",
     "text": [
      "0 has been enqueued.\n",
      "3 has been enqueued.\n",
      "6 has been enqueued.\n",
      "9 has been enqueued.\n",
      "12 has been enqueued.\n",
      "15 has been enqueued.\n",
      "18 has been enqueued.\n",
      "21 has been enqueued.\n",
      "24 has been enqueued.\n",
      "27 has been enqueued.\n"
     ]
    }
   ],
   "source": [
    "for i in range(0, 30, 3):\n",
    "    queue.enqueue(i)\n",
    "    "
   ]
  },
  {
   "cell_type": "code",
   "execution_count": 16,
   "id": "1c2fd238-7b4f-4518-86fe-8cde1fdc839e",
   "metadata": {},
   "outputs": [
    {
     "name": "stdout",
     "output_type": "stream",
     "text": [
      "0 has been dequeued\n"
     ]
    }
   ],
   "source": [
    "queue.dequeue()"
   ]
  },
  {
   "cell_type": "code",
   "execution_count": 17,
   "id": "32ca0946-3b78-4861-87f2-0d6bb384ee53",
   "metadata": {},
   "outputs": [
    {
     "name": "stdout",
     "output_type": "stream",
     "text": [
      "3 is at the front of the queue\n"
     ]
    }
   ],
   "source": [
    "queue.front_queue()"
   ]
  },
  {
   "cell_type": "code",
   "execution_count": 18,
   "id": "fe3d4f2c-7d93-413f-8d39-14b36ca65f80",
   "metadata": {},
   "outputs": [
    {
     "name": "stdout",
     "output_type": "stream",
     "text": [
      "27 is at the rear of the queue\n"
     ]
    }
   ],
   "source": [
    "queue.rear_queue()"
   ]
  },
  {
   "cell_type": "code",
   "execution_count": 19,
   "id": "70e245e9-b015-4454-9344-c025848a7fde",
   "metadata": {},
   "outputs": [
    {
     "name": "stdout",
     "output_type": "stream",
     "text": [
      "Length of Queue:  9\n"
     ]
    }
   ],
   "source": [
    "queue.length()"
   ]
  },
  {
   "cell_type": "code",
   "execution_count": 20,
   "id": "16894607-2c96-475e-b620-96ca43e95cf5",
   "metadata": {},
   "outputs": [
    {
     "name": "stdout",
     "output_type": "stream",
     "text": [
      "3 has been dequeued\n",
      "6 has been dequeued\n",
      "9 has been dequeued\n",
      "12 has been dequeued\n",
      "15 has been dequeued\n",
      "18 has been dequeued\n",
      "21 has been dequeued\n",
      "24 has been dequeued\n",
      "27 has been dequeued\n",
      "Queue is empty!\n"
     ]
    }
   ],
   "source": [
    "queue.empty_queue()"
   ]
  },
  {
   "cell_type": "code",
   "execution_count": null,
   "id": "d65ccd0a-2b3a-4043-ba37-be77213f5556",
   "metadata": {},
   "outputs": [],
   "source": []
  }
 ],
 "metadata": {
  "kernelspec": {
   "display_name": "Python 3 (ipykernel)",
   "language": "python",
   "name": "python3"
  },
  "language_info": {
   "codemirror_mode": {
    "name": "ipython",
    "version": 3
   },
   "file_extension": ".py",
   "mimetype": "text/x-python",
   "name": "python",
   "nbconvert_exporter": "python",
   "pygments_lexer": "ipython3",
   "version": "3.13.0"
  }
 },
 "nbformat": 4,
 "nbformat_minor": 5
}

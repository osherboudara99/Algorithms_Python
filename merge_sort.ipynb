{
 "cells": [
  {
   "cell_type": "markdown",
   "id": "9cf999a3-5c54-465e-91ab-e403873cccbc",
   "metadata": {},
   "source": [
    "### Two-Way Merge Sort"
   ]
  },
  {
   "cell_type": "code",
   "execution_count": 32,
   "id": "8a8f5c09-e09e-4aa9-8739-b8aba88bb190",
   "metadata": {},
   "outputs": [],
   "source": [
    "def merge_sort(a, b):\n",
    "    aLen = len(a)\n",
    "    bLen = len(b)\n",
    "    c = [None] * (aLen + bLen)\n",
    "    i = j = k = 0\n",
    "    while i < aLen and j < bLen:\n",
    "        if a[i] < b[j]:\n",
    "            c[k]= a[i]\n",
    "            i+=1\n",
    "        else:\n",
    "            c[k] = b[j]\n",
    "            j+=1\n",
    "        k+=1\n",
    "    while i < aLen:\n",
    "        c[k]= a[i]\n",
    "        k+=1\n",
    "        i+=1\n",
    "    while j < bLen:\n",
    "        c[k] = b[j]\n",
    "        k+=1\n",
    "        j+=1\n",
    "    print(c)"
   ]
  },
  {
   "cell_type": "code",
   "execution_count": 33,
   "id": "2ac9ee50-6352-43f2-a6bd-d1de914b5518",
   "metadata": {},
   "outputs": [
    {
     "name": "stdout",
     "output_type": "stream",
     "text": [
      "[1, 2, 4, 4, 5, 6, 8]\n"
     ]
    }
   ],
   "source": [
    "merge_sort([1,4,6], [2, 4, 5, 8])"
   ]
  },
  {
   "cell_type": "markdown",
   "id": "c31c9894-804f-47c5-8a6d-6e77fd93dee1",
   "metadata": {},
   "source": [
    "### One Way Merge Sort"
   ]
  },
  {
   "cell_type": "code",
   "execution_count": null,
   "id": "cc773813-e187-4421-af36-b624a1c1de99",
   "metadata": {},
   "outputs": [],
   "source": []
  }
 ],
 "metadata": {
  "kernelspec": {
   "display_name": "Python 3 (ipykernel)",
   "language": "python",
   "name": "python3"
  },
  "language_info": {
   "codemirror_mode": {
    "name": "ipython",
    "version": 3
   },
   "file_extension": ".py",
   "mimetype": "text/x-python",
   "name": "python",
   "nbconvert_exporter": "python",
   "pygments_lexer": "ipython3",
   "version": "3.8.8"
  }
 },
 "nbformat": 4,
 "nbformat_minor": 5
}

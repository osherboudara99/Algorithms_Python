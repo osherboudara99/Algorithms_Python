{
 "cells": [
  {
   "cell_type": "markdown",
   "id": "9cf999a3-5c54-465e-91ab-e403873cccbc",
   "metadata": {},
   "source": [
    "### Merge Sort Iterative"
   ]
  },
  {
   "cell_type": "code",
   "execution_count": 69,
   "id": "8a8f5c09-e09e-4aa9-8739-b8aba88bb190",
   "metadata": {},
   "outputs": [],
   "source": [
    "def merge_sort_iterative(arr):\n",
    "    mid = math.floor(len(arr) / 2)\n",
    "    a = arr[:mid]\n",
    "    b = arr[mid:]\n",
    "    a.sort()\n",
    "    b.sort()\n",
    "    aLen = len(a)\n",
    "    bLen = len(b)\n",
    "    c = [None] * (aLen + bLen)\n",
    "    i = j = k = 0\n",
    "    while i < aLen and j < bLen:\n",
    "        if a[i] < b[j]:\n",
    "            c[k]= a[i]\n",
    "            i+=1\n",
    "        else:\n",
    "            c[k] = b[j]\n",
    "            j+=1\n",
    "        k+=1\n",
    "    while i < aLen:\n",
    "        c[k]= a[i]\n",
    "        k+=1\n",
    "        i+=1\n",
    "    while j < bLen:\n",
    "        c[k] = b[j]\n",
    "        k+=1\n",
    "        j+=1\n",
    "    print(c)"
   ]
  },
  {
   "cell_type": "code",
   "execution_count": 70,
   "id": "2ac9ee50-6352-43f2-a6bd-d1de914b5518",
   "metadata": {},
   "outputs": [
    {
     "name": "stdout",
     "output_type": "stream",
     "text": [
      "[1, 2, 4, 4, 5, 6, 8, 9]\n"
     ]
    }
   ],
   "source": [
    "merge_sort_iterative([1,4,6,9, 2, 4, 5, 8])"
   ]
  },
  {
   "cell_type": "markdown",
   "id": "c31c9894-804f-47c5-8a6d-6e77fd93dee1",
   "metadata": {},
   "source": [
    "### Merge Sort Recursive"
   ]
  },
  {
   "cell_type": "code",
   "execution_count": 67,
   "id": "cc773813-e187-4421-af36-b624a1c1de99",
   "metadata": {},
   "outputs": [],
   "source": [
    "import math\n",
    "def mergeSort(arr):\n",
    "    if len(arr) > 1:\n",
    "        mid = math.floor(len(arr) / 2)\n",
    "        a = arr[:mid]\n",
    "        b = arr[mid:]\n",
    "        merge_one_way(a)\n",
    "        merge_one_way(b)\n",
    "        aLen = len(a)\n",
    "        bLen = len(b)\n",
    "        i = j = k = 0\n",
    "        while i < aLen and j < bLen:\n",
    "            if a[i] < b[j]:\n",
    "                arr[k]= a[i]\n",
    "                i+=1\n",
    "            else:\n",
    "                arr[k] = b[j]\n",
    "                j+=1\n",
    "            k+=1\n",
    "        while i < aLen:\n",
    "            arr[k]= a[i]\n",
    "            k+=1\n",
    "            i+=1\n",
    "        while j < bLen:\n",
    "            arr[k] = b[j]\n",
    "            k+=1\n",
    "            j+=1\n",
    "    return arr"
   ]
  },
  {
   "cell_type": "code",
   "execution_count": 68,
   "id": "3a9bb003-871d-44c3-9b30-f24bb4fea9d3",
   "metadata": {},
   "outputs": [
    {
     "data": {
      "text/plain": [
       "[1, 2, 3, 4, 5, 7, 9, 23, 87, 100]"
      ]
     },
     "execution_count": 68,
     "metadata": {},
     "output_type": "execute_result"
    }
   ],
   "source": [
    "mergeSort([1,3,9,87,23,4,5,2,100,7])"
   ]
  },
  {
   "cell_type": "markdown",
   "id": "504e5308-22e1-4ec7-9c9d-352052b3da6d",
   "metadata": {},
   "source": [
    "### Two-Way Merge Sort"
   ]
  },
  {
   "cell_type": "code",
   "execution_count": 71,
   "id": "3e881e4b-5f45-4519-a7fb-d63301147627",
   "metadata": {},
   "outputs": [],
   "source": [
    "def merge_sort_two_way(a, b):\n",
    "    a.sort()\n",
    "    b.sort()\n",
    "    aLen = len(a)\n",
    "    bLen = len(b)\n",
    "    c = [None] * (aLen + bLen)\n",
    "    i = j = k = 0\n",
    "    while i < aLen and j < bLen:\n",
    "        if a[i] < b[j]:\n",
    "            c[k]= a[i]\n",
    "            i+=1\n",
    "        else:\n",
    "            c[k] = b[j]\n",
    "            j+=1\n",
    "        k+=1\n",
    "    while i < aLen:\n",
    "        c[k]= a[i]\n",
    "        k+=1\n",
    "        i+=1\n",
    "    while j < bLen:\n",
    "        c[k] = b[j]\n",
    "        k+=1\n",
    "        j+=1\n",
    "    print(c)"
   ]
  },
  {
   "cell_type": "code",
   "execution_count": 72,
   "id": "998d7365-f9ec-480f-a3de-62847dc35d09",
   "metadata": {},
   "outputs": [
    {
     "name": "stdout",
     "output_type": "stream",
     "text": [
      "[2, 2, 3, 4, 6, 8, 25]\n"
     ]
    }
   ],
   "source": [
    "merge_sort_two_way([2, 6, 3], [4, 8, 25, 2])"
   ]
  },
  {
   "cell_type": "code",
   "execution_count": null,
   "id": "c0a8570d-e336-47af-8b54-1669de99f016",
   "metadata": {},
   "outputs": [],
   "source": []
  }
 ],
 "metadata": {
  "kernelspec": {
   "display_name": "Python 3 (ipykernel)",
   "language": "python",
   "name": "python3"
  },
  "language_info": {
   "codemirror_mode": {
    "name": "ipython",
    "version": 3
   },
   "file_extension": ".py",
   "mimetype": "text/x-python",
   "name": "python",
   "nbconvert_exporter": "python",
   "pygments_lexer": "ipython3",
   "version": "3.8.8"
  }
 },
 "nbformat": 4,
 "nbformat_minor": 5
}
